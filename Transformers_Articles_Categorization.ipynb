{
  "cells": [
    {
      "cell_type": "markdown",
      "metadata": {
        "id": "view-in-github",
        "colab_type": "text"
      },
      "source": [
        "<a href=\"https://colab.research.google.com/github/alvitay/BERT-Article-Categorization/blob/main/Transformers_Articles_Categorization.ipynb\" target=\"_parent\"><img src=\"https://colab.research.google.com/assets/colab-badge.svg\" alt=\"Open In Colab\"/></a>"
      ]
    },
    {
      "cell_type": "markdown",
      "metadata": {
        "id": "bU1SCVj6dyi1"
      },
      "source": [
        "<h1><center>Introduction to Transformers: BERT - Article Categorization</center></h1>"
      ]
    },
    {
      "cell_type": "markdown",
      "metadata": {
        "id": "MjncuDf2qugI"
      },
      "source": [
        "## Problem Statement"
      ]
    },
    {
      "cell_type": "markdown",
      "metadata": {
        "id": "x9VSf2D_F5iU"
      },
      "source": [
        "### Business Context"
      ]
    },
    {
      "cell_type": "markdown",
      "metadata": {
        "id": "RLApwDNbFDEK"
      },
      "source": [
        "In the dynamic landscape of the media and news industry, the ability to swiftly categorize and curate content has become a strategic imperative. The vast volume of information demands efficient systems to organize and present content to the audience.\n",
        "\n",
        "The media industry, being the pulse of information dissemination, grapples with the continuous influx of articles spanning diverse topics. Ensuring that the right articles reaches the right audience promptly is not just a logistical necessity but a critical component in retaining and engaging audiences in an age of information overload.\n",
        "\n",
        "Common Industry Challenges:\n",
        "Amidst the ceaseless flow of news, media organizations encounter challenges such as:\n",
        "- Information Overload: The sheer volume of articles makes manual categorization impractical.\n",
        "- Timeliness: Delays in categorizing articles can result in outdated or misplaced content.\n",
        "- User Engagement: Providing personalized and relevant content is vital for sustaining user interest."
      ]
    },
    {
      "cell_type": "markdown",
      "metadata": {
        "id": "MzSKXh2LsOvd"
      },
      "source": [
        "### Problem Definition"
      ]
    },
    {
      "cell_type": "markdown",
      "metadata": {
        "id": "PdEWl1qZFNWM"
      },
      "source": [
        "InfoWorld, a prominent player in the media landscape, faces these challenges on a monumental scale. With a vast repository of articles covering global affairs, entertainment, politics, and more, the need for an advanced and automated system to categorize articles has become increasingly evident. The manual efforts required for categorizing such a diverse range of articles are substantial, often leading to delays and potential inaccuracies. To streamline and optimize this process, the organization recognizes the imperative of adopting cutting-edge technologies, particularly machine learning, to automate and enhance the categorization of content.\n",
        "\n",
        "As a data scientist on InfoWorld's data team, the task is to analyze articles and construct a predictive model for categorizing them. The goal is to optimize the categorization process, ensuring timely and personalized delivery. Leveraging advanced machine learning techniques, the initiative aims to address technical challenges and pave the way for a seamless intersection of technology and media."
      ]
    },
    {
      "cell_type": "markdown",
      "metadata": {
        "id": "saFx1pbT_zTP"
      },
      "source": [
        "### Data Dictionary"
      ]
    },
    {
      "cell_type": "markdown",
      "metadata": {
        "id": "5rJpifbLGVDe"
      },
      "source": [
        "- Date published: The date when the article or content was officially released or made public.\n",
        "- Category: Categorization indicating the broad topic or subject of the content.\n",
        "- Section: Subdivision within the publication that helps classify the content further.\n",
        "- Headline: Brief and catchy title summarizing the main idea or topic of the content.\n",
        "- Description: A short summary or overview of the content, providing additional context.\n",
        "- Keywords: Relevant keywords or tags associated with the content for search engine optimization.\n",
        "- Article text: The main body of the article or content containing detailed information and context."
      ]
    },
    {
      "cell_type": "markdown",
      "metadata": {
        "id": "tqfNqaJCQeEE"
      },
      "source": [
        "## Importing the necessary libraries"
      ]
    },
    {
      "cell_type": "code",
      "execution_count": null,
      "metadata": {
        "id": "f8oZoDPtXpyD"
      },
      "outputs": [],
      "source": [
        "# installing the libraries to load transformers models\n",
        "!pip install transformers -q"
      ]
    },
    {
      "cell_type": "code",
      "execution_count": null,
      "metadata": {
        "id": "_9UFK_HJTOsB"
      },
      "outputs": [],
      "source": [
        "# Import necessary libraries for data manipulation and analysis\n",
        "import pandas as pd\n",
        "import numpy as np\n",
        "\n",
        "# Import visualization libraries\n",
        "import seaborn as sns\n",
        "import matplotlib.pyplot as plt\n",
        "\n",
        "# Import modules from scikit-learn for machine learning tasks\n",
        "from sklearn.model_selection import train_test_split\n",
        "from sklearn.preprocessing import LabelEncoder\n",
        "from sklearn.metrics import confusion_matrix, f1_score, precision_score, recall_score, accuracy_score, classification_report\n",
        "\n",
        "# Import TensorFlow for deep learning tasks\n",
        "import tensorflow as tf\n",
        "\n",
        "# importing library for text preprocessing\n",
        "import re\n",
        "\n",
        "# Import modules from the Hugging Face transformers library\n",
        "from transformers import BertTokenizer, TFBertForSequenceClassification"
      ]
    },
    {
      "cell_type": "code",
      "execution_count": null,
      "metadata": {
        "id": "7mK_GyxDZmUd"
      },
      "outputs": [],
      "source": [
        "# Set the seed for the TensorFlow random number generator to ensure reproducibility\n",
        "tf.random.set_seed(42)"
      ]
    },
    {
      "cell_type": "markdown",
      "metadata": {
        "id": "fantastic-rebel"
      },
      "source": [
        "## Loading the dataset"
      ]
    },
    {
      "cell_type": "code",
      "execution_count": null,
      "metadata": {
        "id": "hUtM4aB4PLTp",
        "colab": {
          "base_uri": "https://localhost:8080/"
        },
        "outputId": "42747a71-ee47-492e-f996-befc97c0fe82"
      },
      "outputs": [
        {
          "output_type": "stream",
          "name": "stdout",
          "text": [
            "Mounted at /content/drive\n"
          ]
        }
      ],
      "source": [
        "# mounting Google Drive\n",
        "from google.colab import drive\n",
        "drive.mount('/content/drive')"
      ]
    },
    {
      "cell_type": "code",
      "execution_count": null,
      "metadata": {
        "id": "Dtml5eZYPGK9"
      },
      "outputs": [],
      "source": [
        "# loading the dataset\n",
        "df = pd.read_csv('/content/drive/MyDrive/BERT/Articles.csv')"
      ]
    },
    {
      "cell_type": "code",
      "execution_count": null,
      "metadata": {
        "id": "JydHzsM391iy"
      },
      "outputs": [],
      "source": [
        "# creating a copy of the dataset\n",
        "data = df.copy()"
      ]
    },
    {
      "cell_type": "markdown",
      "metadata": {
        "id": "vvlzvKeqAH-i"
      },
      "source": [
        "## Data Overview"
      ]
    },
    {
      "cell_type": "markdown",
      "metadata": {
        "id": "cIH4md8nAL4v"
      },
      "source": [
        "### Checking the first five rows of the data"
      ]
    },
    {
      "cell_type": "code",
      "execution_count": null,
      "metadata": {
        "id": "MKS-Z7GiCmWX",
        "colab": {
          "base_uri": "https://localhost:8080/",
          "height": 306
        },
        "outputId": "a6823e82-9328-4f5b-82c0-b9d015e808ba"
      },
      "outputs": [
        {
          "output_type": "execute_result",
          "data": {
            "text/plain": [
              "        Date published  Category    Section  \\\n",
              "0  2021-07-15 02:46:59      news      world   \n",
              "1  2021-05-12 07:52:09      news      world   \n",
              "2  2021-06-16 02:51:30      news       asia   \n",
              "3  2022-03-15 09:57:36  business  investing   \n",
              "4  2022-03-15 11:27:02  business   business   \n",
              "\n",
              "                                            Headline  \\\n",
              "0  There's a shortage of truckers, but TuSimple t...   \n",
              "1  Bioservo's robotic 'Ironhand' could protect fa...   \n",
              "2  This swarm of robots gets smarter the more it ...   \n",
              "3  Russia is no longer an option for investors. T...   \n",
              "4  Russian energy investment ban part of new EU s...   \n",
              "\n",
              "                                         Description  \\\n",
              "0  The e-commerce boom has exacerbated a global t...   \n",
              "1  Working in a factory can mean doing the same t...   \n",
              "2  In a Hong Kong warehouse, a swarm of autonomou...   \n",
              "3  For many years, the world's most popular emerg...   \n",
              "4  The European Union formally approved on Tuesda...   \n",
              "\n",
              "                                            Keywords  \\\n",
              "0  world, There's a shortage of truckers, but TuS...   \n",
              "1  world, Bioservo's robotic 'Ironhand' could pro...   \n",
              "2  asia, This swarm of robots gets smarter the mo...   \n",
              "3  investing, Russia is no longer an option for i...   \n",
              "4  business, Russian energy investment ban part o...   \n",
              "\n",
              "                                        Article text  \n",
              "0   (CNN)Right now, there's a shortage of truck d...  \n",
              "1   (CNN)Working in a factory or warehouse can me...  \n",
              "2   (CNN)In a Hong Kong warehouse, a swarm of aut...  \n",
              "3  New York (CNN Business)For many years, the wor...  \n",
              "4  The European Union formally approved on Tuesda...  "
            ],
            "text/html": [
              "\n",
              "  <div id=\"df-b06ead40-5a07-4dc6-95ee-1a627085c414\" class=\"colab-df-container\">\n",
              "    <div>\n",
              "<style scoped>\n",
              "    .dataframe tbody tr th:only-of-type {\n",
              "        vertical-align: middle;\n",
              "    }\n",
              "\n",
              "    .dataframe tbody tr th {\n",
              "        vertical-align: top;\n",
              "    }\n",
              "\n",
              "    .dataframe thead th {\n",
              "        text-align: right;\n",
              "    }\n",
              "</style>\n",
              "<table border=\"1\" class=\"dataframe\">\n",
              "  <thead>\n",
              "    <tr style=\"text-align: right;\">\n",
              "      <th></th>\n",
              "      <th>Date published</th>\n",
              "      <th>Category</th>\n",
              "      <th>Section</th>\n",
              "      <th>Headline</th>\n",
              "      <th>Description</th>\n",
              "      <th>Keywords</th>\n",
              "      <th>Article text</th>\n",
              "    </tr>\n",
              "  </thead>\n",
              "  <tbody>\n",
              "    <tr>\n",
              "      <th>0</th>\n",
              "      <td>2021-07-15 02:46:59</td>\n",
              "      <td>news</td>\n",
              "      <td>world</td>\n",
              "      <td>There's a shortage of truckers, but TuSimple t...</td>\n",
              "      <td>The e-commerce boom has exacerbated a global t...</td>\n",
              "      <td>world, There's a shortage of truckers, but TuS...</td>\n",
              "      <td>(CNN)Right now, there's a shortage of truck d...</td>\n",
              "    </tr>\n",
              "    <tr>\n",
              "      <th>1</th>\n",
              "      <td>2021-05-12 07:52:09</td>\n",
              "      <td>news</td>\n",
              "      <td>world</td>\n",
              "      <td>Bioservo's robotic 'Ironhand' could protect fa...</td>\n",
              "      <td>Working in a factory can mean doing the same t...</td>\n",
              "      <td>world, Bioservo's robotic 'Ironhand' could pro...</td>\n",
              "      <td>(CNN)Working in a factory or warehouse can me...</td>\n",
              "    </tr>\n",
              "    <tr>\n",
              "      <th>2</th>\n",
              "      <td>2021-06-16 02:51:30</td>\n",
              "      <td>news</td>\n",
              "      <td>asia</td>\n",
              "      <td>This swarm of robots gets smarter the more it ...</td>\n",
              "      <td>In a Hong Kong warehouse, a swarm of autonomou...</td>\n",
              "      <td>asia, This swarm of robots gets smarter the mo...</td>\n",
              "      <td>(CNN)In a Hong Kong warehouse, a swarm of aut...</td>\n",
              "    </tr>\n",
              "    <tr>\n",
              "      <th>3</th>\n",
              "      <td>2022-03-15 09:57:36</td>\n",
              "      <td>business</td>\n",
              "      <td>investing</td>\n",
              "      <td>Russia is no longer an option for investors. T...</td>\n",
              "      <td>For many years, the world's most popular emerg...</td>\n",
              "      <td>investing, Russia is no longer an option for i...</td>\n",
              "      <td>New York (CNN Business)For many years, the wor...</td>\n",
              "    </tr>\n",
              "    <tr>\n",
              "      <th>4</th>\n",
              "      <td>2022-03-15 11:27:02</td>\n",
              "      <td>business</td>\n",
              "      <td>business</td>\n",
              "      <td>Russian energy investment ban part of new EU s...</td>\n",
              "      <td>The European Union formally approved on Tuesda...</td>\n",
              "      <td>business, Russian energy investment ban part o...</td>\n",
              "      <td>The European Union formally approved on Tuesda...</td>\n",
              "    </tr>\n",
              "  </tbody>\n",
              "</table>\n",
              "</div>\n",
              "    <div class=\"colab-df-buttons\">\n",
              "\n",
              "  <div class=\"colab-df-container\">\n",
              "    <button class=\"colab-df-convert\" onclick=\"convertToInteractive('df-b06ead40-5a07-4dc6-95ee-1a627085c414')\"\n",
              "            title=\"Convert this dataframe to an interactive table.\"\n",
              "            style=\"display:none;\">\n",
              "\n",
              "  <svg xmlns=\"http://www.w3.org/2000/svg\" height=\"24px\" viewBox=\"0 -960 960 960\">\n",
              "    <path d=\"M120-120v-720h720v720H120Zm60-500h600v-160H180v160Zm220 220h160v-160H400v160Zm0 220h160v-160H400v160ZM180-400h160v-160H180v160Zm440 0h160v-160H620v160ZM180-180h160v-160H180v160Zm440 0h160v-160H620v160Z\"/>\n",
              "  </svg>\n",
              "    </button>\n",
              "\n",
              "  <style>\n",
              "    .colab-df-container {\n",
              "      display:flex;\n",
              "      gap: 12px;\n",
              "    }\n",
              "\n",
              "    .colab-df-convert {\n",
              "      background-color: #E8F0FE;\n",
              "      border: none;\n",
              "      border-radius: 50%;\n",
              "      cursor: pointer;\n",
              "      display: none;\n",
              "      fill: #1967D2;\n",
              "      height: 32px;\n",
              "      padding: 0 0 0 0;\n",
              "      width: 32px;\n",
              "    }\n",
              "\n",
              "    .colab-df-convert:hover {\n",
              "      background-color: #E2EBFA;\n",
              "      box-shadow: 0px 1px 2px rgba(60, 64, 67, 0.3), 0px 1px 3px 1px rgba(60, 64, 67, 0.15);\n",
              "      fill: #174EA6;\n",
              "    }\n",
              "\n",
              "    .colab-df-buttons div {\n",
              "      margin-bottom: 4px;\n",
              "    }\n",
              "\n",
              "    [theme=dark] .colab-df-convert {\n",
              "      background-color: #3B4455;\n",
              "      fill: #D2E3FC;\n",
              "    }\n",
              "\n",
              "    [theme=dark] .colab-df-convert:hover {\n",
              "      background-color: #434B5C;\n",
              "      box-shadow: 0px 1px 3px 1px rgba(0, 0, 0, 0.15);\n",
              "      filter: drop-shadow(0px 1px 2px rgba(0, 0, 0, 0.3));\n",
              "      fill: #FFFFFF;\n",
              "    }\n",
              "  </style>\n",
              "\n",
              "    <script>\n",
              "      const buttonEl =\n",
              "        document.querySelector('#df-b06ead40-5a07-4dc6-95ee-1a627085c414 button.colab-df-convert');\n",
              "      buttonEl.style.display =\n",
              "        google.colab.kernel.accessAllowed ? 'block' : 'none';\n",
              "\n",
              "      async function convertToInteractive(key) {\n",
              "        const element = document.querySelector('#df-b06ead40-5a07-4dc6-95ee-1a627085c414');\n",
              "        const dataTable =\n",
              "          await google.colab.kernel.invokeFunction('convertToInteractive',\n",
              "                                                    [key], {});\n",
              "        if (!dataTable) return;\n",
              "\n",
              "        const docLinkHtml = 'Like what you see? Visit the ' +\n",
              "          '<a target=\"_blank\" href=https://colab.research.google.com/notebooks/data_table.ipynb>data table notebook</a>'\n",
              "          + ' to learn more about interactive tables.';\n",
              "        element.innerHTML = '';\n",
              "        dataTable['output_type'] = 'display_data';\n",
              "        await google.colab.output.renderOutput(dataTable, element);\n",
              "        const docLink = document.createElement('div');\n",
              "        docLink.innerHTML = docLinkHtml;\n",
              "        element.appendChild(docLink);\n",
              "      }\n",
              "    </script>\n",
              "  </div>\n",
              "\n",
              "\n",
              "<div id=\"df-86115cd0-e8ed-4d07-be5b-240073c3a66b\">\n",
              "  <button class=\"colab-df-quickchart\" onclick=\"quickchart('df-86115cd0-e8ed-4d07-be5b-240073c3a66b')\"\n",
              "            title=\"Suggest charts\"\n",
              "            style=\"display:none;\">\n",
              "\n",
              "<svg xmlns=\"http://www.w3.org/2000/svg\" height=\"24px\"viewBox=\"0 0 24 24\"\n",
              "     width=\"24px\">\n",
              "    <g>\n",
              "        <path d=\"M19 3H5c-1.1 0-2 .9-2 2v14c0 1.1.9 2 2 2h14c1.1 0 2-.9 2-2V5c0-1.1-.9-2-2-2zM9 17H7v-7h2v7zm4 0h-2V7h2v10zm4 0h-2v-4h2v4z\"/>\n",
              "    </g>\n",
              "</svg>\n",
              "  </button>\n",
              "\n",
              "<style>\n",
              "  .colab-df-quickchart {\n",
              "      --bg-color: #E8F0FE;\n",
              "      --fill-color: #1967D2;\n",
              "      --hover-bg-color: #E2EBFA;\n",
              "      --hover-fill-color: #174EA6;\n",
              "      --disabled-fill-color: #AAA;\n",
              "      --disabled-bg-color: #DDD;\n",
              "  }\n",
              "\n",
              "  [theme=dark] .colab-df-quickchart {\n",
              "      --bg-color: #3B4455;\n",
              "      --fill-color: #D2E3FC;\n",
              "      --hover-bg-color: #434B5C;\n",
              "      --hover-fill-color: #FFFFFF;\n",
              "      --disabled-bg-color: #3B4455;\n",
              "      --disabled-fill-color: #666;\n",
              "  }\n",
              "\n",
              "  .colab-df-quickchart {\n",
              "    background-color: var(--bg-color);\n",
              "    border: none;\n",
              "    border-radius: 50%;\n",
              "    cursor: pointer;\n",
              "    display: none;\n",
              "    fill: var(--fill-color);\n",
              "    height: 32px;\n",
              "    padding: 0;\n",
              "    width: 32px;\n",
              "  }\n",
              "\n",
              "  .colab-df-quickchart:hover {\n",
              "    background-color: var(--hover-bg-color);\n",
              "    box-shadow: 0 1px 2px rgba(60, 64, 67, 0.3), 0 1px 3px 1px rgba(60, 64, 67, 0.15);\n",
              "    fill: var(--button-hover-fill-color);\n",
              "  }\n",
              "\n",
              "  .colab-df-quickchart-complete:disabled,\n",
              "  .colab-df-quickchart-complete:disabled:hover {\n",
              "    background-color: var(--disabled-bg-color);\n",
              "    fill: var(--disabled-fill-color);\n",
              "    box-shadow: none;\n",
              "  }\n",
              "\n",
              "  .colab-df-spinner {\n",
              "    border: 2px solid var(--fill-color);\n",
              "    border-color: transparent;\n",
              "    border-bottom-color: var(--fill-color);\n",
              "    animation:\n",
              "      spin 1s steps(1) infinite;\n",
              "  }\n",
              "\n",
              "  @keyframes spin {\n",
              "    0% {\n",
              "      border-color: transparent;\n",
              "      border-bottom-color: var(--fill-color);\n",
              "      border-left-color: var(--fill-color);\n",
              "    }\n",
              "    20% {\n",
              "      border-color: transparent;\n",
              "      border-left-color: var(--fill-color);\n",
              "      border-top-color: var(--fill-color);\n",
              "    }\n",
              "    30% {\n",
              "      border-color: transparent;\n",
              "      border-left-color: var(--fill-color);\n",
              "      border-top-color: var(--fill-color);\n",
              "      border-right-color: var(--fill-color);\n",
              "    }\n",
              "    40% {\n",
              "      border-color: transparent;\n",
              "      border-right-color: var(--fill-color);\n",
              "      border-top-color: var(--fill-color);\n",
              "    }\n",
              "    60% {\n",
              "      border-color: transparent;\n",
              "      border-right-color: var(--fill-color);\n",
              "    }\n",
              "    80% {\n",
              "      border-color: transparent;\n",
              "      border-right-color: var(--fill-color);\n",
              "      border-bottom-color: var(--fill-color);\n",
              "    }\n",
              "    90% {\n",
              "      border-color: transparent;\n",
              "      border-bottom-color: var(--fill-color);\n",
              "    }\n",
              "  }\n",
              "</style>\n",
              "\n",
              "  <script>\n",
              "    async function quickchart(key) {\n",
              "      const quickchartButtonEl =\n",
              "        document.querySelector('#' + key + ' button');\n",
              "      quickchartButtonEl.disabled = true;  // To prevent multiple clicks.\n",
              "      quickchartButtonEl.classList.add('colab-df-spinner');\n",
              "      try {\n",
              "        const charts = await google.colab.kernel.invokeFunction(\n",
              "            'suggestCharts', [key], {});\n",
              "      } catch (error) {\n",
              "        console.error('Error during call to suggestCharts:', error);\n",
              "      }\n",
              "      quickchartButtonEl.classList.remove('colab-df-spinner');\n",
              "      quickchartButtonEl.classList.add('colab-df-quickchart-complete');\n",
              "    }\n",
              "    (() => {\n",
              "      let quickchartButtonEl =\n",
              "        document.querySelector('#df-86115cd0-e8ed-4d07-be5b-240073c3a66b button');\n",
              "      quickchartButtonEl.style.display =\n",
              "        google.colab.kernel.accessAllowed ? 'block' : 'none';\n",
              "    })();\n",
              "  </script>\n",
              "</div>\n",
              "\n",
              "    </div>\n",
              "  </div>\n"
            ],
            "application/vnd.google.colaboratory.intrinsic+json": {
              "type": "dataframe",
              "variable_name": "data",
              "summary": "{\n  \"name\": \"data\",\n  \"rows\": 4076,\n  \"fields\": [\n    {\n      \"column\": \"Date published\",\n      \"properties\": {\n        \"dtype\": \"object\",\n        \"num_unique_values\": 4076,\n        \"samples\": [\n          \"2021-05-27 01:05:30\",\n          \"2021-06-22 09:55:02\",\n          \"2021-11-30 09:30:47\"\n        ],\n        \"semantic_type\": \"\",\n        \"description\": \"\"\n      }\n    },\n    {\n      \"column\": \"Category\",\n      \"properties\": {\n        \"dtype\": \"category\",\n        \"num_unique_values\": 6,\n        \"samples\": [\n          \"news\",\n          \"business\",\n          \"politics\"\n        ],\n        \"semantic_type\": \"\",\n        \"description\": \"\"\n      }\n    },\n    {\n      \"column\": \"Section\",\n      \"properties\": {\n        \"dtype\": \"category\",\n        \"num_unique_values\": 37,\n        \"samples\": [\n          \"tennis\",\n          \"golf\",\n          \"media\"\n        ],\n        \"semantic_type\": \"\",\n        \"description\": \"\"\n      }\n    },\n    {\n      \"column\": \"Headline\",\n      \"properties\": {\n        \"dtype\": \"string\",\n        \"num_unique_values\": 4071,\n        \"samples\": [\n          \"Why Francis and Benedict won't answer the accusations dividing their church - CNN\",\n          \"Arizona audit funding cloaked in secrecy - CNNPolitics\",\n          \"Peng Shuai: Chinese tennis star denies making sexual assault allegation against Zhang Gaoli, but WTA concerns persist - CNN\"\n        ],\n        \"semantic_type\": \"\",\n        \"description\": \"\"\n      }\n    },\n    {\n      \"column\": \"Description\",\n      \"properties\": {\n        \"dtype\": \"string\",\n        \"num_unique_values\": 4069,\n        \"samples\": [\n          \"The Brooklyn Nets extended their winning streak to five games with a 116-103 victory over the Toronto Raptors on Sunday.\",\n          \"A Saudi Arabian-backed takeover of Newcastle United has been agreed, the Premier League and the club announced on Thursday.\",\n          \"Olympic champion sprinter Yohan Blake of Jamaica said he would rather miss the Tokyo Games than get the Covid-19 vaccine, although getting vaccinated will not be required of the athletes competing there this summer.\"\n        ],\n        \"semantic_type\": \"\",\n        \"description\": \"\"\n      }\n    },\n    {\n      \"column\": \"Keywords\",\n      \"properties\": {\n        \"dtype\": \"string\",\n        \"num_unique_values\": 4071,\n        \"samples\": [\n          \"europe, Why Francis and Benedict won't answer the accusations dividing their church - CNN\",\n          \"politics, Arizona audit funding cloaked in secrecy - CNNPolitics\",\n          \"tennis, Peng Shuai: Chinese tennis star denies making sexual assault allegation against Zhang Gaoli, but WTA concerns persist - CNN\"\n        ],\n        \"semantic_type\": \"\",\n        \"description\": \"\"\n      }\n    },\n    {\n      \"column\": \"Article text\",\n      \"properties\": {\n        \"dtype\": \"string\",\n        \"num_unique_values\": 4075,\n        \"samples\": [\n          \" (CNN)The European Union has a China problem. The bloc, for financial and strategic reasons, wants to build strong economic ties with Beijing that bolster Brussels' desire to be a serious player on the world stage as the leading light of Western values.The problem is, doing so in any serious way means turning a blind eye to China's well-documented human rights violations.For much of the past decade, the world's largest trading bloc has gone out of its way to establish an economic partnership with Beijing that doesn't conflict too aggressively with Brussels' lofty values. The EU was criticized from both in and outside the bloc when it announced last December the conclusion in principle of negotiations with the Chinese government on its \\\"Comprehensive Agreement on Investment\\\" (CAI).  According to EU Commission President Ursula von der Leyen, the agreement, if ratified, \\\"will provide unprecedented access to the Chinese market,\\\" while also committing \\\"China to ambitious principles on sustainability, transparency and non-discrimination.\\\" Any agreement like this needs to be approved by the EU's 27 member states and ratified by the European parliament.  Read MorePrecisely how bound China would be to any of the EU's redlines was an immediate cause for concern. \\\"The deal makes statements about human rights and forced labor, but there is no way of forcing China to do anything,\\\" says Samira Rafaela, a member of the EU parliament who sits on the international trade committee.Queen Elizabeth visits UK's largest warship, as it set sails for South China SeaMany of Rafaela's colleagues across the political spectrum clearly agree. Last week, the parliament voted on a motion to freeze the CAI until further notice. Ostensibly, this was in protest at China placing sanctions on five MEPs who had criticized China's treatment of Muslim Uyghurs in Xinjiang among other things.  However, in reality the sanctions were really the final straw for some who couldn't stomach Brussels striking a friendly deal with a government in Beijing that allegedly imprisons people in forced labor camps, undermines democracy in Hong Kong and is increasingly hostile in its own region.  \\\"The statement we are sending with this motion isn't simply, if China lifts the sanctions then CAI is back on the table,\\\" says Reinhard B\\u00fctikofer, chair of the parliament's delegation on China relations. \\\"If sanctions are lifted, we will look at the detail, but it's currently far from satisfactory. It's weak on forced labor, weak on sustainability, weak on dispute resolutions. These problems will still exist even if we resurrect the agreement.\\\"  Given the chances of China lifting these sanctions any time soon is virtually zero, this creates a problem for the top brass in the EU Commission, who have invested a lot of political capital in the deal.   For the EU's increasingly political executive branch, China formed a key part of its plan to become a bigger player on the global stage and become diplomatically independent of its most important ally: the United States. \\\"Strategic autonomy,\\\" as Brussels calls it, has been a priority for EU officials who are concerned about Europe's inherent vulnerabilities, be they from Russian aggression in the east, over-reliance on China for medical supplies or the risk of another president like Donald Trump pulling American troops out of Europe.  \\\"The China agreement was a big plank in that strategy,\\\" says Steven Blockmans, director of research at the Centre for European Policy Studies. \\\"If the Chinese and European parliament don't move, the EU risks losing a deal that would have cemented the idea it can make decisions to defend its own commercial interests, without having to call the White House first.\\\" Despite the European parliament's protests, the commission still thinks the deal is right for the EU. Officials who spoke with CNN explained that they understood the parliament's concerns and that the political conditions didn't exist at the moment. One official even lauded the parliament's action, saying it provided proof that \\\"economic interests will not prevent the EU from standing up for human rights.\\\" However, they also said this was a rare window of opportunity to get China committing to something on paper, and that window could run out for political reasons -- most notably after upcoming elections in France and Germany, the two member states most supportive of the deal.  It's at member state level that the apparent split between parliament and commission gets interesting. It's been known for some time that locking in some kind of formal relationship with China was a big priority for Angela Merkel as she tries to nail down her legacy. The German Chancellor will stand down after 16 years in power this autumn, as Germany holds federal elections.  Chinese Premier Li Keqiang (R) and German Chancellor Angela Merkel attend a joint news conference at the Great Hall of the People in Beijing on May 24, 2018. As things stand, it's likely that Merkel's party -- no longer with a leader who holds as much political capital as her -- will have to enter a coalition with the anti-Beijing Greens. This could significantly soften German support for the deal.  The other key sponsor of the deal was French President Emmanuel Macron, a man who also faces re-election next year. The fact that Macron's biggest rival is far-right Marine Le Pen has led some to think he might, in the coming months, cool on globalist policies.  As for the other member states, diplomats who spoke to CNN pointed out that the CAI is not a full trade deal and that there was no urgent need to rush anything through. As one diplomat put it, \\\"there is an awakening in Europe about the real character of its relationship with China and governments don't like it. This will be parked for a while is my guess.\\\" The commission remains convinced that its political capital was well spent and that member states will ultimately choose their economies over other priorities. \\\"Even if leadership changes, the economic reality in Germany and France isn't going to change, and economics has a habit of trumping other concerns,\\\" the diplomat said.   Philippe Lamberts, a senior Belgian MEP, disagrees: \\\"I think EU-China relations are going to get worse before they get better. Even if they lift their sanctions, what message does it send on European values if we agree a deal with such weak provisions on human rights, democracy and sustainability?\\\"  The EU's record on human rights, critics argue, is already patchy. While last week the European parliament did stand up to both China and Turkey -- calling for the suspension of talks with Ankara to join the bloc over its own human rights record -- campaigners say that the EU is not doing enough to uphold its own standards on human records inside or outside the bloc.  Chinese President Xi Jinping and French Emmanuel Macron (taste wine as they visit France's pavilion during the China International Import Expo in Shanghai on November 5, 2019.\\\"Trade and investment are an area where economic interests have always prevailed over respect for human rights, as much as security concerns have always prevailed in migration management,\\\" says Elena Crespi, program officer for Western Europe at the International Federation for Human Rights.  And while the parliament has a good track record on human rights, awarding its Sakharov Prize for Freedom of Thought to an imprisoned Uyghur scholar in 2019, critics believe the commission falls short in comparison.  \\\"The current commission is not sufficiently doing its job in upholding European values,\\\" says Alice Stollmeyer, executive director of Defend Democracy. \\\"Whether it's fudging on rule of law in Hungary and Poland or failing to properly speak out against atrocities elsewhere, the EU sadly seems to have a policy of appeasement for abusers.\\\" It's no secret that the EU is in a transitional phase. Those at the center of the project see a future of closer union and its officials in Brussels becoming serious players on the world stage in their own right.  If a balanced relationship with China was indeed central to this, the current mood among elected politicians across the member states will be of serious concern to the Brussels elite.  Perhaps more worrying, Blockmans points out, is whether China reassesses how much it wants a deal with the bloc. \\\"It might be that China still sees the EU as a secondary player -- a lackey to the US. If that's that case, they might decide that this is a deal worth collapsing for their own political ends.\\\"  Regardless, the point is moot while Europe's political class refuses to even look at this deal. The longer this deadlock on sanctions goes on, the greater the chance it totally collapses. And it if does, those at the top table in Brussels might regret investing so much political capital in dealing with one of the world's worst human rights offenders.  \",\n          \" (CNN)Senegal and Liverpool football star Sadio Mane has donated $693,000 (\\u00a3500,000) to help fund the construction of a hospital in his hometown of Bambali in Senegal. The village, about 400 kilometers outside the capital city Dakar, did not previously have a hospital. Mane met with Senegalese President Macky Sall earlier this month to discuss the project, which will include departments for maternity care, dental facilities and consulting rooms. Le footballeur Sadio Man\\u00e9 a \\u00e9t\\u00e9 re\\u00e7u cet apr\\u00e8s-midi par le Pr\\u00e9sident @Macky_Sall. L'attaquant de Liverpool a pr\\u00e9sent\\u00e9 au Chef de l'Etat un ambitieux projet de construction d'un h\\u00f4pital \\u00e0 Bambali et compte sur l'accompagnement de l'Etat pour le personnel m\\u00e9dical. pic.twitter.com/aPBwtY8Iz7\\u2014 Pr\\u00e9sidence S\\u00e9n\\u00e9gal (@PR_Senegal) June 10, 2021\\n\\n\\\"The Liverpool striker has presented the Head of State with an ambitious plan to build a hospital in Bambali and is counting on state support for medical personnel,\\\" the official account for the presidency tweeted in June. Mane also shared his enthusiasm for the project, tweeting: \\\"Very honored by the audience that the Head of State, His Excellency @Macky_Sall granted me. A good time to discuss football but also our social projects.\\\" Read MoreIn 2019, Mane donated close to $350,000 (\\u00a3250,000) to build a school in Bambali. The year before he also gifted 300 Liverpool shirts to his home village so that residents could wear them during the Champions League final.  READ: Samuel Eto'o is celebrated for much more than football in his hometownThe Reds forward, who recently scored goals for his national team in friendly matches against Zambia and Cape Verde, will be back in action for the start of Liverpool's pre-season on July 12. \",\n          \" (CNN)The 2021 Atlantic hurricane season, just like the 2020 season, was one for the record books -- but for different reasons. The biggest similarity was the high number of named storms. The 2021 season became only the third in history to use all of the names on the rotating seasonal list (the previous years were 2020 and 2005).We ended the season with 21 named storms, 7 hurricanes, and 4 major hurricanes (Category 3 or higher). During an average year there would be 14 named storms, 7 hurricanes, and 3 major hurricanes. This year met or exceeded each of those categories, and it was forecast to be that way. The Atlantic hurricane season runs from June 1 to November 30.There were four major hurricanes this season: Grace, Ida, Larry, and Sam. The strongest two were Ida and Sam, which both reached Category 4 strength. Grace and Larry peaked as Category 3 storms. The first half of the season was off to the races -- as the US was impacted by eight named storms: Claudette, Danny, Elsa, Fred, Henri, Ida, Mindy, and Nicholas.Read MoreThen, suddenly, the world's oceans became eerily quiet. After September 25 the Atlantic and the rest of the world would struggle to produce a named storm.That was not what meteorologists expected.\\\"The globe has had no major (Category 3+, max winds >=111 mph) hurricane/typhoon/cyclone formations since September 25. All other hurricane seasons in the satellite era (since 1966) have had at least two global major hurricane formations between September 26 - November 19,\\\" Phil Klotzbach, a research scientist at Colorado State University, said in a tweet.  Both last year and this year La Ni\\u00f1a conditions were observed during the last several weeks of the season, which typically favors late season tropical activity. 2020 saw three named storms in November (Eta, Theta, and Iota) and 2021 saw just one (Wanda) during the first few days.How this hurricane season ended marks one of the biggest differences between this year and last.Klotzbach explained that usually La Ni\\u00f1a weakens or limits vertical wind shear, but surprisingly there was quite elevated wind shear in the Caribbean in October and November -- the focal region for storms late in the season -- and that led to a quiet latter part of the 2021 Atlantic hurricane season.NOAA predicts 6th consecutive above-average hurricane seasonWhile an active season was predicted, it's impossible to know in advance exactly where each storm will go and what kind of damage it may cause. A \\\"bad\\\" season is all about perspective. Central American countries may consider this to have been a \\\"good\\\" year since not a single named storm hit any part of the region. In 2020, Central America was hit by three named storms, two of which were major hurricanes. In the US, the state of Louisiana can't seem to catch a break. In 2020, the Pelican State was impacted by five named storms: Cristobal, Laura, Marco, Delta and Zeta. This year the state was impacted by three named storms: Claudette, Ida and Nicholas.In 2020 more hurricanes made landfall in the US, but this year the storms cost over $20 billion more. Billions in damageWhile only one major hurricane made landfall across the US (Ida), a total of four named storms left behind over $1 billion in damage each: Tropical Storm Elsa, Tropical Storm Fred, Hurricane Ida, and Hurricane Nicholas.Ida alone exceeded the cost in damage of all seven billion-dollar tropical cyclones that made landfall across the US in 2020, including hurricanes like Laura, Delta, and Zeta.\\\"To date, Hurricane Ida is the costliest disaster this year -- exceeding $60 billion,\\\" according to the National Oceanic and Atmospheric Administration. \\\"Ida already ranks among the top-five most costly hurricanes on record for the US since 1980.\\\"JUST WATCHEDThis Louisiana family lost their mom in Hurricane Ida. Here's why they aren't going anywhereReplayMore Videos ...MUST WATCHThis Louisiana family lost their mom in Hurricane Ida. Here's why they aren't going anywhere 03:28Ida was the strongest Atlantic hurricane of the year to make landfall with maximum sustained winds of 150 mph when it struck near Port Fourchon, Louisiana, on August 29. It was one of only three hurricanes to ever make landfall in the state of Louisiana with winds of 150 mph, the most recent being Laura from 2020. Photos: Ida's remnants wreak havoc in the EastThe stadium for the Somerset Patriots, a minor-league baseball team in Bridgewater Township, New Jersey, is partially flooded by overflow from the Raritan River on Thursday, September 2.Hide Caption 1 of 24 Photos: Ida's remnants wreak havoc in the EastA man wades through floodwaters in Manville, New Jersey, on September 2.Hide Caption 2 of 24 Photos: Ida's remnants wreak havoc in the EastCommuters walk into a flooded subway station in New York City on September 2.Hide Caption 3 of 24 Photos: Ida's remnants wreak havoc in the EastFirst responders rescue people who were trapped by floodwaters in Mamaroneck, New York, on September 2.Hide Caption 4 of 24 Photos: Ida's remnants wreak havoc in the EastA building in Queens, New York, is damaged on September 2.Hide Caption 5 of 24 Photos: Ida's remnants wreak havoc in the EastA person walks in floodwaters in Philadelphia on September 2.Hide Caption 6 of 24 Photos: Ida's remnants wreak havoc in the EastA United Automatic Fire Sprinkler employee helps clean up on September 2 after the business flooded in Woodland Park, New Jersey.Hide Caption 7 of 24 Photos: Ida's remnants wreak havoc in the EastA motorist drives on a flooded expressway in Brooklyn, New York, early on September 2, as the remnants of Hurricane Ida swept through the area.Hide Caption 8 of 24 Photos: Ida's remnants wreak havoc in the EastPeople stand inside a subway station in New York City as water runs past their feet on Wednesday, September 1.Hide Caption 9 of 24 Photos: Ida's remnants wreak havoc in the EastMembers of the New York City Fire Department rescue a woman from her stalled car on September 1.Hide Caption 10 of 24 Photos: Ida's remnants wreak havoc in the EastMembers of the Weldon Fire Company walk through floodwaters in Dresher, Pennsylvania, on September 1.Hide Caption 11 of 24 Photos: Ida's remnants wreak havoc in the EastPeople navigate heavy rains and flooded walkways at the Billie Jean King National Tennis Center in New York City on September 1.Hide Caption 12 of 24 Photos: Ida's remnants wreak havoc in the EastWorkers clear a road from flooding in Bridgeville, Pennsylvania, on September 1.Hide Caption 13 of 24 Photos: Ida's remnants wreak havoc in the EastSergio Rossi, owner of Sergio Tailoring, covers flood-damaged clothing at his shop in Oakdale, Pennsylvania, on September 1.Hide Caption 14 of 24 Photos: Ida's remnants wreak havoc in the EastA downed tree blocks a road in Plymouth Meeting, Pennsylvania, on September 1.Hide Caption 15 of 24 Photos: Ida's remnants wreak havoc in the EastA tennis fan covers herself from rain as she attends a match at the US Open in New York on September 1. A second-round singles match between Kevin Anderson and Diego Schwartzman was halted early in the second set as water came through multiple openings of the roof on Louis Armstrong Stadium. The match was moved to the Arthur Ashe Stadium and completed just after 1 a.m. Thursday.Hide Caption 16 of 24 Photos: Ida's remnants wreak havoc in the EastMembers of the Oakdale Fire Department clear debris from their station after heavy rains in Oakdale, Pennsylvania, on September 1.Hide Caption 17 of 24 Photos: Ida's remnants wreak havoc in the EastRaindrops are illuminated by a camera flash near the US Capitol as Ida's remnants pass over Washington, DC, on September 1.Hide Caption 18 of 24 Photos: Ida's remnants wreak havoc in the EastA worker surveys damage in Annapolis, Maryland, on September 1.Hide Caption 19 of 24 Photos: Ida's remnants wreak havoc in the EastDebris litters a park in Oakdale, Pennsylvania, on September 1.Hide Caption 20 of 24 Photos: Ida's remnants wreak havoc in the EastA man walks his dog in Camp Hill, Pennsylvania, on September 1.Hide Caption 21 of 24 Photos: Ida's remnants wreak havoc in the EastA house sits above floodwaters in Glenshaw, Pennsylvania, on September 1.Hide Caption 22 of 24 Photos: Ida's remnants wreak havoc in the EastWater is pumped from the basement of a business in Oakdale, Pennsylvania, during cleanup on September 1.Hide Caption 23 of 24 Photos: Ida's remnants wreak havoc in the EastPeople walk through heavy rain in New York's Times Square on September 1.Hide Caption 24 of 24\\\"Grand Isle, Louisiana took a direct hit with 100% of its homes damaged and nearly 40% were nearly-to-completely destroyed,\\\" according to NOAA. \\\"There was heavy damage to the energy infrastructure across southern Louisiana causing widespread, long duration power outages to millions of people.\\\"In the following days the remnants of Ida moved to the Northeast and combined with a frontal system, delivering extreme rainfall rates and flash flooding, inundating streets, homes and neighborhoods.Flash flood emergencies were declared in New Jersey and New York. At least 55 people died across New York, New Jersey, Connecticut, Maryland, Pennsylvania and Virginia.This season's quirksThe strongest storm of the season didn't hit land but video was captured from inside it.Hurricane Sam, like Ida, also reached Category 4 strength with maximum sustained winds of 150 mph. Sam remained a Category 4 hurricane for 4.5 days and generated the fifth-highest accumulated cyclone energy (ACE) recorded in the satellite era.\\\"ACE is integrated metric accounting for storm intensity and duration,\\\" Klotzbach tweeted. \\\"Sam was a long-lived, intense hurricane.\\\"Fortunately, unlike Ida, Sam remained out over the open waters of the Atlantic and never made landfall.Sam's long life, of over 11 days as a hurricane, allowed a research drone to be sailed into it, and, for the first time, to transmit video from inside a major hurricane at ocean level.JUST WATCHEDWatch how Hurricane Sam was filmed like never beforeReplayMore Videos ...MUST WATCHWatch how Hurricane Sam was filmed like never before 02:27A couple of other storms made some meteorological records.Tropical Storm Ana formed in a unique area of the Atlantic Ocean. In the last 100 years, no named storm had ever developed east of Bermuda in the month of May. Tropical Storm Ana broke that record. Typically, storms during this month form over the eastern Gulf of Mexico, western Caribbean Sea and near the southeastern US coast.Another unique storm was Subtropical Storm Teresa. Reports of subtropical storms are not uncommon, especially in the 21st century, thanks to advanced technology. What is uncommon is for a storm to remain subtropical for its entire life, never transitioning to \\\"tropical\\\" status. Teresa was also extremely short-lived, at only 24 hours. Subtropical Storm Teresa formed on Friday, September 24, at 5 p.m. Atlantic Standard Time. Exactly 24 hours later, the NHC issued its final advisory as Teresa became a remnant, low-pressure system. Ida will likely be the only name on the retired list this year, despite there being three other major hurricanes, simply because of the amount of damage and fatalities caused. The letter \\\"I\\\" already has more retired names than any other letter in the alphabet. There are already 12 retired storm names that start with the letter \\\"I\\\", and Ida will likely become the 13th.\"\n        ],\n        \"semantic_type\": \"\",\n        \"description\": \"\"\n      }\n    }\n  ]\n}"
            }
          },
          "metadata": {},
          "execution_count": 7
        }
      ],
      "source": [
        "# Print first 5 rows of data\n",
        "data.head()"
      ]
    },
    {
      "cell_type": "code",
      "execution_count": null,
      "metadata": {
        "id": "tTh2uQdWwY9-",
        "colab": {
          "base_uri": "https://localhost:8080/",
          "height": 137
        },
        "outputId": "2868fd71-7f5a-4ae4-bdb0-e74dcc0f2786"
      },
      "outputs": [
        {
          "output_type": "execute_result",
          "data": {
            "text/plain": [
              "'New York (CNN Business)For many years, the world\\'s most popular emerging markets have been the so-called BRICS: Brazil, Russia, India, China and South Africa.But given that Russia is no longer a market that Westerners can access following the invasion of Ukraine, it might be time for investors to stop lumping all of the emerging markets together.\"The BRICS had their day in the sun and that has faded,\" said Eric Winograd, senior economist at AllianceBernstein.Several major US index providers have removed Russian stocks from indexes at a price of \"zero\" or \"effectively zero.\" Trading shares of several leading US-listed Russian companies, such as search engine Yandex and telecom MTS, have been halted. And the Moscow Stock Exchange has been closed since February 25, the day after the invasion.Russia could default on its debt within days\"The idea that a country as large as Russia can be removed from indexes is a big deal,\" Winograd said.Read MoreIt seems likely that Russia will not be included in top emerging markets funds anytime soon. Even for those Westerners still willing to invest in Russian assets, it\\'s not clear what comes next.\"Some investors are asking about exposure to Russia in emerging markets funds. With indexes starting to exclude Russia, it\\'s still a wait-and-see game,\" said Mychal Campos, head of investing at Betterment.For investors looking to get exposure to emerging markets, Winograd said, each country should be looked at individually.\"The name of the game will be differentiation. Don\\'t invest in emerging markets based on an acronym,\" Winograd said. \"It\\'s always strange to say that Argentina and South Korea are the same thing, for example. They\\'re not.\" Forget the BRICS and look at TICKS or MIST?To stick with the acronyms, the shutdown of the Russian stock market has essentially turned the BRICS into the BICS — and that could be a permanent change, said Rahul Sen Sharma, managing partner with Indxx, a global index provider. \"Will investors ever embrace Russia again? If there is no liquidity, it\\'s a moot point. But it\\'s also hard to believe that people will rush into Russia anytime soon,\" Sen Sharma told CNN Business.Sen Sharma said some investors may start to look at other emerging markets to replace Russia, such as Taiwan and South Korea. The BRICS could become the TICKS. He added that Poland, Turkey and Mexico are intriguing, as are the Philippines and Indonesia. You could dub Mexico, Indonesia, South Korea and Turkey the MIST markets. \"People love their acronyms,\" Sen Sharma joked.Of course, any emerging market in Europe — think Poland —  is inherently risky because of how close it is geographically to Russia and Ukraine. So other Central and Eastern European nations may be a hard sell for Western investors.War in Ukraine has sparked a scramble for dollarsOther experts argue that investors are looking more at individual companies in emerging markets and less at the countries themselves.\"A typical investor sees emerging markets as a class of stocks. It\\'s a piece of a portfolio,\" said Callie Cox, US investment analyst at eToro.\"The emerging markets landscape has been changing for awhile,\" Cox added, noting that many investors have been skeptical of Russia since its annexation of Crimea in 2014. \"There has been more anxiety.\"'"
            ],
            "application/vnd.google.colaboratory.intrinsic+json": {
              "type": "string"
            }
          },
          "metadata": {},
          "execution_count": 8
        }
      ],
      "source": [
        "# checking an article\n",
        "data.loc[3, 'Article text']"
      ]
    },
    {
      "cell_type": "markdown",
      "metadata": {
        "id": "NuWYF7W_AQx_"
      },
      "source": [
        "### Checking the shape of the dataset"
      ]
    },
    {
      "cell_type": "code",
      "execution_count": null,
      "metadata": {
        "id": "7DysT_j1Cky-",
        "colab": {
          "base_uri": "https://localhost:8080/"
        },
        "outputId": "6694cfdf-5e7f-4841-8ed2-70403fbad1e4"
      },
      "outputs": [
        {
          "output_type": "execute_result",
          "data": {
            "text/plain": [
              "(4076, 7)"
            ]
          },
          "metadata": {},
          "execution_count": 9
        }
      ],
      "source": [
        "# print shape of data\n",
        "data.shape"
      ]
    },
    {
      "cell_type": "markdown",
      "metadata": {
        "id": "1m9Eku_JUDaS"
      },
      "source": [
        "* The data comprises of ~4k articles"
      ]
    },
    {
      "cell_type": "markdown",
      "metadata": {
        "id": "EBuO6NvsAT1k"
      },
      "source": [
        "### Checking for missing values"
      ]
    },
    {
      "cell_type": "code",
      "execution_count": null,
      "metadata": {
        "id": "RjFc0JaDCn1u",
        "colab": {
          "base_uri": "https://localhost:8080/",
          "height": 300
        },
        "outputId": "e237b259-ffab-4503-ea0a-2869e7aa19db"
      },
      "outputs": [
        {
          "output_type": "execute_result",
          "data": {
            "text/plain": [
              "Date published    0\n",
              "Category          0\n",
              "Section           0\n",
              "Headline          0\n",
              "Description       0\n",
              "Keywords          0\n",
              "Article text      0\n",
              "dtype: int64"
            ],
            "text/html": [
              "<div>\n",
              "<style scoped>\n",
              "    .dataframe tbody tr th:only-of-type {\n",
              "        vertical-align: middle;\n",
              "    }\n",
              "\n",
              "    .dataframe tbody tr th {\n",
              "        vertical-align: top;\n",
              "    }\n",
              "\n",
              "    .dataframe thead th {\n",
              "        text-align: right;\n",
              "    }\n",
              "</style>\n",
              "<table border=\"1\" class=\"dataframe\">\n",
              "  <thead>\n",
              "    <tr style=\"text-align: right;\">\n",
              "      <th></th>\n",
              "      <th>0</th>\n",
              "    </tr>\n",
              "  </thead>\n",
              "  <tbody>\n",
              "    <tr>\n",
              "      <th>Date published</th>\n",
              "      <td>0</td>\n",
              "    </tr>\n",
              "    <tr>\n",
              "      <th>Category</th>\n",
              "      <td>0</td>\n",
              "    </tr>\n",
              "    <tr>\n",
              "      <th>Section</th>\n",
              "      <td>0</td>\n",
              "    </tr>\n",
              "    <tr>\n",
              "      <th>Headline</th>\n",
              "      <td>0</td>\n",
              "    </tr>\n",
              "    <tr>\n",
              "      <th>Description</th>\n",
              "      <td>0</td>\n",
              "    </tr>\n",
              "    <tr>\n",
              "      <th>Keywords</th>\n",
              "      <td>0</td>\n",
              "    </tr>\n",
              "    <tr>\n",
              "      <th>Article text</th>\n",
              "      <td>0</td>\n",
              "    </tr>\n",
              "  </tbody>\n",
              "</table>\n",
              "</div><br><label><b>dtype:</b> int64</label>"
            ]
          },
          "metadata": {},
          "execution_count": 10
        }
      ],
      "source": [
        "# Check for missing values\n",
        "data.isnull().sum()"
      ]
    },
    {
      "cell_type": "markdown",
      "metadata": {
        "id": "a9JV6etiY0g9"
      },
      "source": [
        "- There are no missing values in the data"
      ]
    },
    {
      "cell_type": "markdown",
      "metadata": {
        "id": "lIICk5hF_xW7"
      },
      "source": [
        "### Checking the statistical summary"
      ]
    },
    {
      "cell_type": "code",
      "execution_count": null,
      "metadata": {
        "id": "axfenFhn_0y1",
        "colab": {
          "base_uri": "https://localhost:8080/",
          "height": 207
        },
        "outputId": "742b6cd9-b5c7-4780-d6df-6eb851f2d7ac"
      },
      "outputs": [
        {
          "output_type": "execute_result",
          "data": {
            "text/plain": [
              "             Date published Category Section  \\\n",
              "count                  4076     4076    4076   \n",
              "unique                 4076        6      37   \n",
              "top     2021-07-15 02:46:59    sport   sport   \n",
              "freq                      1     2176    1088   \n",
              "\n",
              "                                                 Headline  \\\n",
              "count                                                4076   \n",
              "unique                                               4071   \n",
              "top     Ukrainian opposition demand investigation into...   \n",
              "freq                                                    2   \n",
              "\n",
              "                                              Description  \\\n",
              "count                                                4076   \n",
              "unique                                               4069   \n",
              "top     Austria's Chancellor Sebastian Kurz said in a ...   \n",
              "freq                                                    2   \n",
              "\n",
              "                                                 Keywords  \\\n",
              "count                                                4076   \n",
              "unique                                               4071   \n",
              "top     europe, Ukrainian opposition demand investigat...   \n",
              "freq                                                    2   \n",
              "\n",
              "                                             Article text  \n",
              "count                                                4076  \n",
              "unique                                               4075  \n",
              "top      (CNN)It has been delayed by a year, but that ...  \n",
              "freq                                                    2  "
            ],
            "text/html": [
              "\n",
              "  <div id=\"df-4623fe5e-b190-49e6-9011-76da9c4df2b5\" class=\"colab-df-container\">\n",
              "    <div>\n",
              "<style scoped>\n",
              "    .dataframe tbody tr th:only-of-type {\n",
              "        vertical-align: middle;\n",
              "    }\n",
              "\n",
              "    .dataframe tbody tr th {\n",
              "        vertical-align: top;\n",
              "    }\n",
              "\n",
              "    .dataframe thead th {\n",
              "        text-align: right;\n",
              "    }\n",
              "</style>\n",
              "<table border=\"1\" class=\"dataframe\">\n",
              "  <thead>\n",
              "    <tr style=\"text-align: right;\">\n",
              "      <th></th>\n",
              "      <th>Date published</th>\n",
              "      <th>Category</th>\n",
              "      <th>Section</th>\n",
              "      <th>Headline</th>\n",
              "      <th>Description</th>\n",
              "      <th>Keywords</th>\n",
              "      <th>Article text</th>\n",
              "    </tr>\n",
              "  </thead>\n",
              "  <tbody>\n",
              "    <tr>\n",
              "      <th>count</th>\n",
              "      <td>4076</td>\n",
              "      <td>4076</td>\n",
              "      <td>4076</td>\n",
              "      <td>4076</td>\n",
              "      <td>4076</td>\n",
              "      <td>4076</td>\n",
              "      <td>4076</td>\n",
              "    </tr>\n",
              "    <tr>\n",
              "      <th>unique</th>\n",
              "      <td>4076</td>\n",
              "      <td>6</td>\n",
              "      <td>37</td>\n",
              "      <td>4071</td>\n",
              "      <td>4069</td>\n",
              "      <td>4071</td>\n",
              "      <td>4075</td>\n",
              "    </tr>\n",
              "    <tr>\n",
              "      <th>top</th>\n",
              "      <td>2021-07-15 02:46:59</td>\n",
              "      <td>sport</td>\n",
              "      <td>sport</td>\n",
              "      <td>Ukrainian opposition demand investigation into...</td>\n",
              "      <td>Austria's Chancellor Sebastian Kurz said in a ...</td>\n",
              "      <td>europe, Ukrainian opposition demand investigat...</td>\n",
              "      <td>(CNN)It has been delayed by a year, but that ...</td>\n",
              "    </tr>\n",
              "    <tr>\n",
              "      <th>freq</th>\n",
              "      <td>1</td>\n",
              "      <td>2176</td>\n",
              "      <td>1088</td>\n",
              "      <td>2</td>\n",
              "      <td>2</td>\n",
              "      <td>2</td>\n",
              "      <td>2</td>\n",
              "    </tr>\n",
              "  </tbody>\n",
              "</table>\n",
              "</div>\n",
              "    <div class=\"colab-df-buttons\">\n",
              "\n",
              "  <div class=\"colab-df-container\">\n",
              "    <button class=\"colab-df-convert\" onclick=\"convertToInteractive('df-4623fe5e-b190-49e6-9011-76da9c4df2b5')\"\n",
              "            title=\"Convert this dataframe to an interactive table.\"\n",
              "            style=\"display:none;\">\n",
              "\n",
              "  <svg xmlns=\"http://www.w3.org/2000/svg\" height=\"24px\" viewBox=\"0 -960 960 960\">\n",
              "    <path d=\"M120-120v-720h720v720H120Zm60-500h600v-160H180v160Zm220 220h160v-160H400v160Zm0 220h160v-160H400v160ZM180-400h160v-160H180v160Zm440 0h160v-160H620v160ZM180-180h160v-160H180v160Zm440 0h160v-160H620v160Z\"/>\n",
              "  </svg>\n",
              "    </button>\n",
              "\n",
              "  <style>\n",
              "    .colab-df-container {\n",
              "      display:flex;\n",
              "      gap: 12px;\n",
              "    }\n",
              "\n",
              "    .colab-df-convert {\n",
              "      background-color: #E8F0FE;\n",
              "      border: none;\n",
              "      border-radius: 50%;\n",
              "      cursor: pointer;\n",
              "      display: none;\n",
              "      fill: #1967D2;\n",
              "      height: 32px;\n",
              "      padding: 0 0 0 0;\n",
              "      width: 32px;\n",
              "    }\n",
              "\n",
              "    .colab-df-convert:hover {\n",
              "      background-color: #E2EBFA;\n",
              "      box-shadow: 0px 1px 2px rgba(60, 64, 67, 0.3), 0px 1px 3px 1px rgba(60, 64, 67, 0.15);\n",
              "      fill: #174EA6;\n",
              "    }\n",
              "\n",
              "    .colab-df-buttons div {\n",
              "      margin-bottom: 4px;\n",
              "    }\n",
              "\n",
              "    [theme=dark] .colab-df-convert {\n",
              "      background-color: #3B4455;\n",
              "      fill: #D2E3FC;\n",
              "    }\n",
              "\n",
              "    [theme=dark] .colab-df-convert:hover {\n",
              "      background-color: #434B5C;\n",
              "      box-shadow: 0px 1px 3px 1px rgba(0, 0, 0, 0.15);\n",
              "      filter: drop-shadow(0px 1px 2px rgba(0, 0, 0, 0.3));\n",
              "      fill: #FFFFFF;\n",
              "    }\n",
              "  </style>\n",
              "\n",
              "    <script>\n",
              "      const buttonEl =\n",
              "        document.querySelector('#df-4623fe5e-b190-49e6-9011-76da9c4df2b5 button.colab-df-convert');\n",
              "      buttonEl.style.display =\n",
              "        google.colab.kernel.accessAllowed ? 'block' : 'none';\n",
              "\n",
              "      async function convertToInteractive(key) {\n",
              "        const element = document.querySelector('#df-4623fe5e-b190-49e6-9011-76da9c4df2b5');\n",
              "        const dataTable =\n",
              "          await google.colab.kernel.invokeFunction('convertToInteractive',\n",
              "                                                    [key], {});\n",
              "        if (!dataTable) return;\n",
              "\n",
              "        const docLinkHtml = 'Like what you see? Visit the ' +\n",
              "          '<a target=\"_blank\" href=https://colab.research.google.com/notebooks/data_table.ipynb>data table notebook</a>'\n",
              "          + ' to learn more about interactive tables.';\n",
              "        element.innerHTML = '';\n",
              "        dataTable['output_type'] = 'display_data';\n",
              "        await google.colab.output.renderOutput(dataTable, element);\n",
              "        const docLink = document.createElement('div');\n",
              "        docLink.innerHTML = docLinkHtml;\n",
              "        element.appendChild(docLink);\n",
              "      }\n",
              "    </script>\n",
              "  </div>\n",
              "\n",
              "\n",
              "<div id=\"df-982baf05-f24e-4bdf-bf61-ecd252d813e6\">\n",
              "  <button class=\"colab-df-quickchart\" onclick=\"quickchart('df-982baf05-f24e-4bdf-bf61-ecd252d813e6')\"\n",
              "            title=\"Suggest charts\"\n",
              "            style=\"display:none;\">\n",
              "\n",
              "<svg xmlns=\"http://www.w3.org/2000/svg\" height=\"24px\"viewBox=\"0 0 24 24\"\n",
              "     width=\"24px\">\n",
              "    <g>\n",
              "        <path d=\"M19 3H5c-1.1 0-2 .9-2 2v14c0 1.1.9 2 2 2h14c1.1 0 2-.9 2-2V5c0-1.1-.9-2-2-2zM9 17H7v-7h2v7zm4 0h-2V7h2v10zm4 0h-2v-4h2v4z\"/>\n",
              "    </g>\n",
              "</svg>\n",
              "  </button>\n",
              "\n",
              "<style>\n",
              "  .colab-df-quickchart {\n",
              "      --bg-color: #E8F0FE;\n",
              "      --fill-color: #1967D2;\n",
              "      --hover-bg-color: #E2EBFA;\n",
              "      --hover-fill-color: #174EA6;\n",
              "      --disabled-fill-color: #AAA;\n",
              "      --disabled-bg-color: #DDD;\n",
              "  }\n",
              "\n",
              "  [theme=dark] .colab-df-quickchart {\n",
              "      --bg-color: #3B4455;\n",
              "      --fill-color: #D2E3FC;\n",
              "      --hover-bg-color: #434B5C;\n",
              "      --hover-fill-color: #FFFFFF;\n",
              "      --disabled-bg-color: #3B4455;\n",
              "      --disabled-fill-color: #666;\n",
              "  }\n",
              "\n",
              "  .colab-df-quickchart {\n",
              "    background-color: var(--bg-color);\n",
              "    border: none;\n",
              "    border-radius: 50%;\n",
              "    cursor: pointer;\n",
              "    display: none;\n",
              "    fill: var(--fill-color);\n",
              "    height: 32px;\n",
              "    padding: 0;\n",
              "    width: 32px;\n",
              "  }\n",
              "\n",
              "  .colab-df-quickchart:hover {\n",
              "    background-color: var(--hover-bg-color);\n",
              "    box-shadow: 0 1px 2px rgba(60, 64, 67, 0.3), 0 1px 3px 1px rgba(60, 64, 67, 0.15);\n",
              "    fill: var(--button-hover-fill-color);\n",
              "  }\n",
              "\n",
              "  .colab-df-quickchart-complete:disabled,\n",
              "  .colab-df-quickchart-complete:disabled:hover {\n",
              "    background-color: var(--disabled-bg-color);\n",
              "    fill: var(--disabled-fill-color);\n",
              "    box-shadow: none;\n",
              "  }\n",
              "\n",
              "  .colab-df-spinner {\n",
              "    border: 2px solid var(--fill-color);\n",
              "    border-color: transparent;\n",
              "    border-bottom-color: var(--fill-color);\n",
              "    animation:\n",
              "      spin 1s steps(1) infinite;\n",
              "  }\n",
              "\n",
              "  @keyframes spin {\n",
              "    0% {\n",
              "      border-color: transparent;\n",
              "      border-bottom-color: var(--fill-color);\n",
              "      border-left-color: var(--fill-color);\n",
              "    }\n",
              "    20% {\n",
              "      border-color: transparent;\n",
              "      border-left-color: var(--fill-color);\n",
              "      border-top-color: var(--fill-color);\n",
              "    }\n",
              "    30% {\n",
              "      border-color: transparent;\n",
              "      border-left-color: var(--fill-color);\n",
              "      border-top-color: var(--fill-color);\n",
              "      border-right-color: var(--fill-color);\n",
              "    }\n",
              "    40% {\n",
              "      border-color: transparent;\n",
              "      border-right-color: var(--fill-color);\n",
              "      border-top-color: var(--fill-color);\n",
              "    }\n",
              "    60% {\n",
              "      border-color: transparent;\n",
              "      border-right-color: var(--fill-color);\n",
              "    }\n",
              "    80% {\n",
              "      border-color: transparent;\n",
              "      border-right-color: var(--fill-color);\n",
              "      border-bottom-color: var(--fill-color);\n",
              "    }\n",
              "    90% {\n",
              "      border-color: transparent;\n",
              "      border-bottom-color: var(--fill-color);\n",
              "    }\n",
              "  }\n",
              "</style>\n",
              "\n",
              "  <script>\n",
              "    async function quickchart(key) {\n",
              "      const quickchartButtonEl =\n",
              "        document.querySelector('#' + key + ' button');\n",
              "      quickchartButtonEl.disabled = true;  // To prevent multiple clicks.\n",
              "      quickchartButtonEl.classList.add('colab-df-spinner');\n",
              "      try {\n",
              "        const charts = await google.colab.kernel.invokeFunction(\n",
              "            'suggestCharts', [key], {});\n",
              "      } catch (error) {\n",
              "        console.error('Error during call to suggestCharts:', error);\n",
              "      }\n",
              "      quickchartButtonEl.classList.remove('colab-df-spinner');\n",
              "      quickchartButtonEl.classList.add('colab-df-quickchart-complete');\n",
              "    }\n",
              "    (() => {\n",
              "      let quickchartButtonEl =\n",
              "        document.querySelector('#df-982baf05-f24e-4bdf-bf61-ecd252d813e6 button');\n",
              "      quickchartButtonEl.style.display =\n",
              "        google.colab.kernel.accessAllowed ? 'block' : 'none';\n",
              "    })();\n",
              "  </script>\n",
              "</div>\n",
              "\n",
              "    </div>\n",
              "  </div>\n"
            ],
            "application/vnd.google.colaboratory.intrinsic+json": {
              "type": "dataframe",
              "summary": "{\n  \"name\": \"data\",\n  \"rows\": 4,\n  \"fields\": [\n    {\n      \"column\": \"Date published\",\n      \"properties\": {\n        \"dtype\": \"date\",\n        \"min\": \"1970-01-01 00:00:00.000000001\",\n        \"max\": \"2021-07-15 02:46:59\",\n        \"num_unique_values\": 3,\n        \"samples\": [\n          \"4076\",\n          \"2021-07-15 02:46:59\",\n          \"1\"\n        ],\n        \"semantic_type\": \"\",\n        \"description\": \"\"\n      }\n    },\n    {\n      \"column\": \"Category\",\n      \"properties\": {\n        \"dtype\": \"string\",\n        \"num_unique_values\": 4,\n        \"samples\": [\n          6,\n          \"2176\",\n          \"4076\"\n        ],\n        \"semantic_type\": \"\",\n        \"description\": \"\"\n      }\n    },\n    {\n      \"column\": \"Section\",\n      \"properties\": {\n        \"dtype\": \"string\",\n        \"num_unique_values\": 4,\n        \"samples\": [\n          37,\n          \"1088\",\n          \"4076\"\n        ],\n        \"semantic_type\": \"\",\n        \"description\": \"\"\n      }\n    },\n    {\n      \"column\": \"Headline\",\n      \"properties\": {\n        \"dtype\": \"string\",\n        \"num_unique_values\": 4,\n        \"samples\": [\n          4071,\n          \"2\",\n          \"4076\"\n        ],\n        \"semantic_type\": \"\",\n        \"description\": \"\"\n      }\n    },\n    {\n      \"column\": \"Description\",\n      \"properties\": {\n        \"dtype\": \"string\",\n        \"num_unique_values\": 4,\n        \"samples\": [\n          4069,\n          \"2\",\n          \"4076\"\n        ],\n        \"semantic_type\": \"\",\n        \"description\": \"\"\n      }\n    },\n    {\n      \"column\": \"Keywords\",\n      \"properties\": {\n        \"dtype\": \"string\",\n        \"num_unique_values\": 4,\n        \"samples\": [\n          4071,\n          \"2\",\n          \"4076\"\n        ],\n        \"semantic_type\": \"\",\n        \"description\": \"\"\n      }\n    },\n    {\n      \"column\": \"Article text\",\n      \"properties\": {\n        \"dtype\": \"string\",\n        \"num_unique_values\": 4,\n        \"samples\": [\n          4075,\n          \"2\",\n          \"4076\"\n        ],\n        \"semantic_type\": \"\",\n        \"description\": \"\"\n      }\n    }\n  ]\n}"
            }
          },
          "metadata": {},
          "execution_count": 11
        }
      ],
      "source": [
        "data.describe()"
      ]
    },
    {
      "cell_type": "markdown",
      "metadata": {
        "id": "DqnzZBOs_6Xb"
      },
      "source": [
        "- There seem to a large number of articles from the sports category"
      ]
    },
    {
      "cell_type": "markdown",
      "metadata": {
        "id": "kUJ_B5KxhU3D"
      },
      "source": [
        "## Exploratory Data Analysis (EDA)\n"
      ]
    },
    {
      "cell_type": "code",
      "execution_count": null,
      "metadata": {
        "id": "lYClY_MmbvG1"
      },
      "outputs": [],
      "source": [
        " # function to create labeled barplots\n",
        "\n",
        "def labeled_barplot(data, feature, perc=False, n=None):\n",
        "    \"\"\"\n",
        "    Barplot with percentage at the top\n",
        "\n",
        "    data: dataframe\n",
        "    feature: dataframe column\n",
        "    perc: whether to display percentages instead of count (default is False)\n",
        "    n: displays the top n category levels (default is None, i.e., display all levels)\n",
        "    \"\"\"\n",
        "\n",
        "    total = len(data[feature])  # length of the column\n",
        "    count = data[feature].nunique()\n",
        "    if n is None:\n",
        "        plt.figure(figsize=(count + 1, 5))\n",
        "    else:\n",
        "        plt.figure(figsize=(n + 1, 5))\n",
        "\n",
        "    plt.xticks(rotation=90, fontsize=15)\n",
        "    ax = sns.countplot(\n",
        "        data=data,\n",
        "        x=feature,\n",
        "        palette=\"Paired\",\n",
        "        order=data[feature].value_counts().index[:n].sort_values(),\n",
        "    )\n",
        "\n",
        "    for p in ax.patches:\n",
        "        if perc == True:\n",
        "            label = \"{:.1f}%\".format(\n",
        "                100 * p.get_height() / total\n",
        "            )  # percentage of each class of the category\n",
        "        else:\n",
        "            label = p.get_height()  # count of each level of the category\n",
        "\n",
        "        x = p.get_x() + p.get_width() / 2  # width of the plot\n",
        "        y = p.get_height()  # height of the plot\n",
        "\n",
        "        ax.annotate(\n",
        "            label,\n",
        "            (x, y),\n",
        "            ha=\"center\",\n",
        "            va=\"center\",\n",
        "            size=12,\n",
        "            xytext=(0, 5),\n",
        "            textcoords=\"offset points\",\n",
        "        )  # annotate the percentage\n",
        "\n",
        "    plt.show()  # show the plot"
      ]
    },
    {
      "cell_type": "markdown",
      "metadata": {
        "id": "Yzi68_PYAlof"
      },
      "source": [
        "### Univariate Analysis"
      ]
    },
    {
      "cell_type": "markdown",
      "metadata": {
        "id": "akIOIRhfbvG8"
      },
      "source": [
        "#### Distribution of article categories"
      ]
    },
    {
      "cell_type": "code",
      "execution_count": null,
      "metadata": {
        "id": "ByuRA3I2bvG_",
        "colab": {
          "base_uri": "https://localhost:8080/",
          "height": 706
        },
        "outputId": "03e49199-bbd2-4533-9b81-da38a629e6ac"
      },
      "outputs": [
        {
          "output_type": "stream",
          "name": "stderr",
          "text": [
            "<ipython-input-12-1efd3ad12d5f>:21: FutureWarning: \n",
            "\n",
            "Passing `palette` without assigning `hue` is deprecated and will be removed in v0.14.0. Assign the `x` variable to `hue` and set `legend=False` for the same effect.\n",
            "\n",
            "  ax = sns.countplot(\n"
          ]
        },
        {
          "output_type": "display_data",
          "data": {
            "text/plain": [
              "<Figure size 700x500 with 1 Axes>"
            ],
            "image/png": "[encoded data removed]"
          },
          "metadata": {}
        }
      ],
      "source": [
        "labeled_barplot(data, \"Category\", perc=True)"
      ]
    },
    {
      "cell_type": "markdown",
      "metadata": {
        "id": "fqnuCtG7bvHB"
      },
      "source": [
        "- Majority of the articles in the data are sports articles (53%), followed by news articles (~40%)"
      ]
    },
    {
      "cell_type": "markdown",
      "metadata": {
        "id": "gnPICJ-WbvHD"
      },
      "source": [
        "#### Distribution of section"
      ]
    },
    {
      "cell_type": "code",
      "execution_count": null,
      "metadata": {
        "id": "StFvx8mCbvHF",
        "colab": {
          "base_uri": "https://localhost:8080/",
          "height": 706
        },
        "outputId": "34fa04ae-596f-4a52-f303-0349d5119d58"
      },
      "outputs": [
        {
          "output_type": "stream",
          "name": "stderr",
          "text": [
            "<ipython-input-12-1efd3ad12d5f>:21: FutureWarning: \n",
            "\n",
            "Passing `palette` without assigning `hue` is deprecated and will be removed in v0.14.0. Assign the `x` variable to `hue` and set `legend=False` for the same effect.\n",
            "\n",
            "  ax = sns.countplot(\n"
          ]
        },
        {
          "output_type": "display_data",
          "data": {
            "text/plain": [
              "<Figure size 1600x500 with 1 Axes>"
            ],
            "image/png": "[encoded data removed]"
          },
          "metadata": {}
        }
      ],
      "source": [
        "labeled_barplot(data, \"Section\", perc=True, n = 15)"
      ]
    },
    {
      "cell_type": "markdown",
      "metadata": {
        "id": "kYqGBWxs-yIy"
      },
      "source": [
        "* The most common section articles in the data belong to are sports, europe, and football"
      ]
    },
    {
      "cell_type": "markdown",
      "metadata": {
        "id": "gwLKrCYpAyyh"
      },
      "source": [
        "#### Distribution of the year of publishing"
      ]
    },
    {
      "cell_type": "code",
      "execution_count": null,
      "metadata": {
        "id": "8n5Nd1pi2E9f"
      },
      "outputs": [],
      "source": [
        "data['year'] = pd.to_datetime(data['Date published']).dt.year"
      ]
    },
    {
      "cell_type": "code",
      "execution_count": null,
      "metadata": {
        "id": "u74Y7_Fn2Xy2",
        "colab": {
          "base_uri": "https://localhost:8080/",
          "height": 609
        },
        "outputId": "372e7aaf-6075-4478-9b89-e44cfbf626b6"
      },
      "outputs": [
        {
          "output_type": "stream",
          "name": "stderr",
          "text": [
            "<ipython-input-12-1efd3ad12d5f>:21: FutureWarning: \n",
            "\n",
            "Passing `palette` without assigning `hue` is deprecated and will be removed in v0.14.0. Assign the `x` variable to `hue` and set `legend=False` for the same effect.\n",
            "\n",
            "  ax = sns.countplot(\n"
          ]
        },
        {
          "output_type": "display_data",
          "data": {
            "text/plain": [
              "<Figure size 1200x500 with 1 Axes>"
            ],
            "image/png": "[encoded data removed]"
          },
          "metadata": {}
        }
      ],
      "source": [
        "labeled_barplot(data, \"year\", perc=True)"
      ]
    },
    {
      "cell_type": "markdown",
      "metadata": {
        "id": "H8fGS-US2ng8"
      },
      "source": [
        "- Most of the articles are from the year 2021"
      ]
    },
    {
      "cell_type": "markdown",
      "metadata": {
        "id": "ZCM6avoA39FB"
      },
      "source": [
        "## Data Preprocessing"
      ]
    },
    {
      "cell_type": "code",
      "execution_count": null,
      "metadata": {
        "id": "42CTojahioE5"
      },
      "outputs": [],
      "source": [
        "dataset = data.copy()"
      ]
    },
    {
      "cell_type": "markdown",
      "metadata": {
        "id": "If-ARLxSFAHM"
      },
      "source": [
        "#### **Preprocessing the textual column**"
      ]
    },
    {
      "cell_type": "code",
      "execution_count": null,
      "metadata": {
        "id": "BRXoGtLrQMza"
      },
      "outputs": [],
      "source": [
        "def preprocess_text(text):\n",
        "    # Convert to lowercase\n",
        "    text = text.lower()\n",
        "\n",
        "    # Remove special characters and numbers\n",
        "    text = re.sub(r'[^A-Za-z\\s]', '', text)\n",
        "\n",
        "    # Remove extra whitespaces\n",
        "    text = re.sub(r'\\s+', ' ', text).strip()\n",
        "\n",
        "    return text"
      ]
    },
    {
      "cell_type": "code",
      "execution_count": null,
      "metadata": {
        "id": "1gP35O7svOS3"
      },
      "outputs": [],
      "source": [
        "# preprocessing the textual column\n",
        "dataset['Article_text_clean'] = dataset['Article text'].apply(preprocess_text)"
      ]
    },
    {
      "cell_type": "markdown",
      "metadata": {
        "id": "VqiWTT5PhcR8"
      },
      "source": [
        "#### **Splitting the dataset**"
      ]
    },
    {
      "cell_type": "code",
      "execution_count": null,
      "metadata": {
        "id": "q6D5tdDiymfd"
      },
      "outputs": [],
      "source": [
        "# Creating dependent and independent variables\n",
        "X = dataset['Article_text_clean']\n",
        "y = dataset['Category']"
      ]
    },
    {
      "cell_type": "code",
      "execution_count": null,
      "metadata": {
        "id": "JR1b1XUwOVFk"
      },
      "outputs": [],
      "source": [
        "from sklearn.model_selection import train_test_split\n",
        "\n",
        "# Initial split into training (80%) and testing (20%)\n",
        "X_train, X_temp, y_train, y_temp = train_test_split(X, y, test_size=0.20, stratify=y, random_state=42)\n",
        "\n",
        "# Further split the temporary set into validation (10%) and test (10%) sets\n",
        "X_valid, X_test, y_valid, y_test = train_test_split(X_temp, y_temp, test_size=0.50, stratify=y_temp, random_state=42)"
      ]
    },
    {
      "cell_type": "code",
      "execution_count": null,
      "metadata": {
        "id": "g0zoMsOuPULf",
        "colab": {
          "base_uri": "https://localhost:8080/"
        },
        "outputId": "e73bfe2a-60bf-49fb-8f96-f0e83db1c095"
      },
      "outputs": [
        {
          "output_type": "stream",
          "name": "stdout",
          "text": [
            "(3260,) (408,) (408,)\n"
          ]
        }
      ],
      "source": [
        "print(X_train.shape, X_test.shape, X_valid.shape)"
      ]
    },
    {
      "cell_type": "code",
      "execution_count": null,
      "metadata": {
        "id": "Pm7MtfzARokp",
        "colab": {
          "base_uri": "https://localhost:8080/"
        },
        "outputId": "8f196c21-ef2b-49b9-d5b9-02e6f90b445c"
      },
      "outputs": [
        {
          "output_type": "stream",
          "name": "stdout",
          "text": [
            "(3260,) (408,) (408,)\n"
          ]
        }
      ],
      "source": [
        "print(y_train.shape, y_test.shape, y_valid.shape)"
      ]
    },
    {
      "cell_type": "markdown",
      "metadata": {
        "id": "8NHi-3fywDl2"
      },
      "source": [
        "#### **Label Encoding**"
      ]
    },
    {
      "cell_type": "markdown",
      "metadata": {
        "id": "r3Z7QdV5Vvcw"
      },
      "source": [
        "Label Encoding is a method employed to transform categorical columns into numerical format, enabling their compatibility with machine learning models that exclusively operate on numerical data.\n",
        "For example, consider a categorical column \"Color\" which has values 'Red,' 'Blue,' and 'Green.'\n",
        "Using label encoding, we can represent these categories numerically:\n",
        "\n",
        "Red   : 0\n",
        "\n",
        "Blue  : 1\n",
        "\n",
        "Green : 2\n",
        "\n",
        "Here, we apply label encoding to \"Category\" column in our data."
      ]
    },
    {
      "cell_type": "code",
      "execution_count": null,
      "metadata": {
        "id": "_CtmZ5QovMYp"
      },
      "outputs": [],
      "source": [
        "# Label Encoding\n",
        "encoder = LabelEncoder()\n",
        "\n",
        "# fitting the encoder to the training labels\n",
        "y_train_enc = encoder.fit_transform(y_train)\n",
        "\n",
        "# applying the encoder mapping from training labels to validation and test labels\n",
        "y_valid_enc = encoder.transform(y_valid)\n",
        "y_test_enc = encoder.transform(y_test)"
      ]
    },
    {
      "cell_type": "markdown",
      "metadata": {
        "id": "07a20WohZdI0"
      },
      "source": [
        "#### **Tokenization**"
      ]
    },
    {
      "cell_type": "code",
      "execution_count": null,
      "metadata": {
        "id": "1kCillRsHWhS",
        "colab": {
          "base_uri": "https://localhost:8080/",
          "height": 301,
          "referenced_widgets": [
            "f0c8900770d649469ff60c935e9bc390",
            "76c04575120941b9b60ea45006ce8cdb",
            "a60352358b7d46cf876f16d0ee82d807",
            "3b6481335b494db8a9a1554da8dfadd3",
            "abbb8163090e4f148bc461acbdbed1d9",
            "3b5d34e466434eea9094944d7e84549e",
            "d4ae29c92b034a18a7bf41a2e0285865",
            "d6c7bebe8d154bf1aad3c7626f3de4ba",
            "361f5ebef0b7438186a98bdec8d00397",
            "a9d7689a093d4fcf8ac24cdaa8a87274",
            "b414f3efb83e46c4a21ac1c80bb78412",
            "4db9e252fb75456f848607da2f1d3663",
            "735d57f75fe04a459c595663be45deea",
            "18fe455b0c2c4372b078300743410a6d",
            "b6704ea730184836b9c0cd89c4b9dd70",
            "e7dc147215cc44d0a5ba6c238bd91ca7",
            "310fa33cd5ec4b5e9e9c0e70e551d2e2",
            "7778e877ef7f471fa9c80a8be5d4451a",
            "00abad2a051842a691dca5c8614bf9c2",
            "0d54966351a0465cba4d2f19b1acc7d3",
            "ac2650e570f248159629d5517458a042",
            "831672db9e594605ad129ef52121ac38",
            "e17ea4ce851c49f4b262fb97fedb398a",
            "0ab5efbd75af453b937ea2255e54878a",
            "f7ae46e1a3a8448bb3073a351037fd4e",
            "4823a0c1c09b46ed8404cf6b73d79edb",
            "2f5fc52caab64fdba2a9e53b1e4f37c6",
            "fb6b3e22e73d4b75b80dcdac664cc1d7",
            "f754f3d60c2c401aacc1d6008f6cf61e",
            "b78de60a43d9405e9b84e09710d761c1",
            "264833dd520e4e368457ac840c9d7b02",
            "3e002185cbf947f2880457da76ca1018",
            "4aee0f1a08c84197a7e90611821de02c",
            "0e2c87a7173c43f7bd75c59f2ac01d88",
            "24e9f3a826db444d89e2d4643cfb5fcb",
            "e49ed2696eb64f49b103148b234eee3f",
            "5f81f738294543e0aa6548b44365823f",
            "ec40b995177c406bbda93a7bdc121103",
            "fe70fd42f96540718f79957159721547",
            "c7ff7097c9fe4371b74f9a2539f27371",
            "1990898bf5604cf2bf681d193ea2553f",
            "86bdee31ba03486f83fda765feee979a",
            "75d1a83ae5b84edd95a68d5ae8947f9c",
            "a0c331167c3942bcb6dbc016ef611f44"
          ]
        },
        "outputId": "9b0fd2c7-7dfb-4960-9afb-005281b9ae26"
      },
      "outputs": [
        {
          "output_type": "stream",
          "name": "stderr",
          "text": [
            "/usr/local/lib/python3.10/dist-packages/huggingface_hub/utils/_token.py:89: UserWarning: \n",
            "The secret `HF_TOKEN` does not exist in your Colab secrets.\n",
            "To authenticate with the Hugging Face Hub, create a token in your settings tab (https://huggingface.co/settings/tokens), set it as secret in your Google Colab and restart your session.\n",
            "You will be able to reuse this secret in all of your notebooks.\n",
            "Please note that authentication is recommended but still optional to access public models or datasets.\n",
            "  warnings.warn(\n"
          ]
        },
        {
          "output_type": "display_data",
          "data": {
            "text/plain": [
              "tokenizer_config.json:   0%|          | 0.00/48.0 [00:00<?, ?B/s]"
            ],
            "application/vnd.jupyter.widget-view+json": {
              "version_major": 2,
              "version_minor": 0,
              "model_id": "f0c8900770d649469ff60c935e9bc390"
            }
          },
          "metadata": {}
        },
        {
          "output_type": "display_data",
          "data": {
            "text/plain": [
              "vocab.txt:   0%|          | 0.00/232k [00:00<?, ?B/s]"
            ],
            "application/vnd.jupyter.widget-view+json": {
              "version_major": 2,
              "version_minor": 0,
              "model_id": "4db9e252fb75456f848607da2f1d3663"
            }
          },
          "metadata": {}
        },
        {
          "output_type": "display_data",
          "data": {
            "text/plain": [
              "tokenizer.json:   0%|          | 0.00/466k [00:00<?, ?B/s]"
            ],
            "application/vnd.jupyter.widget-view+json": {
              "version_major": 2,
              "version_minor": 0,
              "model_id": "e17ea4ce851c49f4b262fb97fedb398a"
            }
          },
          "metadata": {}
        },
        {
          "output_type": "display_data",
          "data": {
            "text/plain": [
              "config.json:   0%|          | 0.00/570 [00:00<?, ?B/s]"
            ],
            "application/vnd.jupyter.widget-view+json": {
              "version_major": 2,
              "version_minor": 0,
              "model_id": "0e2c87a7173c43f7bd75c59f2ac01d88"
            }
          },
          "metadata": {}
        },
        {
          "output_type": "stream",
          "name": "stderr",
          "text": [
            "/usr/local/lib/python3.10/dist-packages/transformers/tokenization_utils_base.py:1601: FutureWarning: `clean_up_tokenization_spaces` was not set. It will be set to `True` by default. This behavior will be depracted in transformers v4.45, and will be then set to `False` by default. For more details check this issue: https://github.com/huggingface/transformers/issues/31884\n",
            "  warnings.warn(\n"
          ]
        }
      ],
      "source": [
        "# loading and creating an instance of the BERT tokenizer\n",
        "tokenizer = BertTokenizer.from_pretrained('bert-base-uncased', do_lower_case=True)"
      ]
    },
    {
      "cell_type": "markdown",
      "metadata": {
        "id": "S2W4WWPIBcdP"
      },
      "source": [
        "- `do_lower_case` argument converts the input to lowercase when it is set to *True*"
      ]
    },
    {
      "cell_type": "code",
      "execution_count": null,
      "metadata": {
        "id": "jXv9suKhwZkh"
      },
      "outputs": [],
      "source": [
        "# specifying the maximum length of the input\n",
        "max_length = 512"
      ]
    },
    {
      "cell_type": "code",
      "execution_count": null,
      "metadata": {
        "id": "oqm0Skp7wS_N"
      },
      "outputs": [],
      "source": [
        "X_train_tokenized = tokenizer(\n",
        "    X_train.values.tolist(),    # passing the data as a list to the tokenizer\n",
        "    max_length=max_length,    # specifies the maximum length of the tokenized data\n",
        "    padding='max_length',    # padding the data to the specified maximum length\n",
        "    truncation=True,    # truncating the input if it is longer than the specified maximum length\n",
        "    return_attention_mask=True,    # specifying to return attention masks\n",
        "    return_tensors='tf',    # specifying to return the output as tensorflow tensors\n",
        ")"
      ]
    },
    {
      "cell_type": "code",
      "execution_count": null,
      "metadata": {
        "id": "qWNuVEo_wxht"
      },
      "outputs": [],
      "source": [
        "X_valid_tokenized = tokenizer(\n",
        "    X_valid.values.tolist(),\n",
        "    max_length=max_length,\n",
        "    padding='max_length',\n",
        "    truncation=True,\n",
        "    return_attention_mask=True,\n",
        "    return_tensors='tf',\n",
        ")"
      ]
    },
    {
      "cell_type": "code",
      "execution_count": null,
      "metadata": {
        "id": "wmX4MAuPwS7n"
      },
      "outputs": [],
      "source": [
        "X_test_tokenized = tokenizer(\n",
        "    X_test.values.tolist(),\n",
        "    max_length=max_length,\n",
        "    padding='max_length',\n",
        "    truncation=True,\n",
        "    return_attention_mask=True,\n",
        "    return_tensors='tf',\n",
        ")"
      ]
    },
    {
      "cell_type": "markdown",
      "metadata": {
        "id": "FfFuz0Rx9sxm"
      },
      "source": [
        "#### **Creating tensorflow datasets**"
      ]
    },
    {
      "cell_type": "markdown",
      "metadata": {
        "id": "Vo4WAaLPJyXG"
      },
      "source": [
        "Converting regular data into a batched tensorflow dataset helps in optimizing memory usage. We can do that in the following steps.\n",
        "\n",
        "1. Convert the tokenized input into a dictionary\n",
        "2. Zip the dictionary and target labels into a tensorflow dataset\n",
        "3. Split the tensorflow dataset into batches"
      ]
    },
    {
      "cell_type": "code",
      "execution_count": null,
      "metadata": {
        "id": "aq_WuxK9xLk_"
      },
      "outputs": [],
      "source": [
        "# defining the size of the batches\n",
        "batch_size = 8\n",
        "\n",
        "# converting the tokenized input and the output into a batched tensorflow dataset for training\n",
        "train_tokenized_tf = tf.data.Dataset.from_tensor_slices((dict(X_train_tokenized), y_train_enc)).batch(batch_size)\n",
        "\n",
        "# converting the tokenized input and the output into a batched tensorflow dataset for validation\n",
        "valid_tokenized_tf = tf.data.Dataset.from_tensor_slices((dict(X_valid_tokenized), y_valid_enc)).batch(batch_size)\n",
        "\n",
        "# converting the tokenized input and the output into a batched tensorflow dataset for testing\n",
        "test_tokenized_tf = tf.data.Dataset.from_tensor_slices((dict(X_test_tokenized), y_test_enc)).batch(batch_size)"
      ]
    },
    {
      "cell_type": "markdown",
      "metadata": {
        "id": "f4lwYN5bYmHp"
      },
      "source": [
        "## Model Building"
      ]
    },
    {
      "cell_type": "markdown",
      "metadata": {
        "id": "9n22D9au7MRS"
      },
      "source": [
        "### **BERT Model**\n",
        "\n",
        "BERT, or Bidirectional Encoder Representations from Transformers, is a pre-trained natural language processing (NLP) model developed by Google. It belongs to the ***Transformer*** architecture, which was introduced in the paper \"Attention is All You Need\" by Vaswani et al. in 2017.\n",
        "\n",
        "BERT is designed to understand the context of words in a sentence by considering the entire sentence bidirectionally, rather than just in a left-to-right or right-to-left manner. This bidirectional approach allows BERT to capture complex contextual relationships and dependencies between words, making it highly effective for various NLP tasks."
      ]
    },
    {
      "cell_type": "markdown",
      "metadata": {
        "id": "n0zOSq9mieSG"
      },
      "source": [
        "### Loading the Model"
      ]
    },
    {
      "cell_type": "code",
      "execution_count": null,
      "metadata": {
        "id": "wT6V8nLM6pmK",
        "colab": {
          "base_uri": "https://localhost:8080/"
        },
        "outputId": "eff43a49-07c5-400d-9d28-c58aaf66de5e"
      },
      "outputs": [
        {
          "output_type": "execute_result",
          "data": {
            "text/plain": [
              "6"
            ]
          },
          "metadata": {},
          "execution_count": 31
        }
      ],
      "source": [
        "num_classes = y.nunique()\n",
        "num_classes"
      ]
    },
    {
      "cell_type": "markdown",
      "metadata": {
        "id": "NAzC1LXuPyij"
      },
      "source": [
        "###**TFBertForSequenceClassification**\n",
        "\n",
        "TFBertForSequenceClassification is a class in the Hugging Face Transformers library that is specifically designed for fine-tuning BERT (Bidirectional Encoder Representations from Transformers) models for sequence classification tasks using TensorFlow. BERT is a pre-trained transformer-based language model developed by Google, and it has achieved state-of-the-art results in various natural language processing (NLP) tasks.\n",
        "\n",
        "When using TFBertForSequenceClassification, you typically load a pre-trained BERT model (such as 'bert-base-uncased') and fine-tune it on your specific classification task by providing labeled training data. The model can then be used to make predictions on new sequences of text.\n"
      ]
    },
    {
      "cell_type": "code",
      "execution_count": null,
      "metadata": {
        "id": "NWutItsUdMyR",
        "colab": {
          "base_uri": "https://localhost:8080/",
          "height": 137,
          "referenced_widgets": [
            "6a7ebc18200b4d8bb3710fcab760bf92",
            "eadbff6f09ec4cb6a9ec2ed3f78e1ba6",
            "2994a1926e87475899244b0e97e1eebb",
            "070021493f6848b1ae9251ed8859e93e",
            "12cbebe203ca4d339de3b14071199efa",
            "1b081ee6631e43a79a096afec3cc6279",
            "2d9403d255b44f958b6ad8c42b2526c2",
            "d20a2525e7f24eafb181c0b80f177dba",
            "61ad75d2d0e44ecab2f4ab7688028ffb",
            "965c730cbb5a474eaac7429327be8c4a",
            "c1d46cdcc2664cc387ddb23edbe3bd50"
          ]
        },
        "outputId": "a01a80ff-9ed0-48f7-a1fb-632bed9b548d"
      },
      "outputs": [
        {
          "output_type": "display_data",
          "data": {
            "text/plain": [
              "model.safetensors:   0%|          | 0.00/440M [00:00<?, ?B/s]"
            ],
            "application/vnd.jupyter.widget-view+json": {
              "version_major": 2,
              "version_minor": 0,
              "model_id": "6a7ebc18200b4d8bb3710fcab760bf92"
            }
          },
          "metadata": {}
        },
        {
          "output_type": "stream",
          "name": "stderr",
          "text": [
            "All PyTorch model weights were used when initializing TFBertForSequenceClassification.\n",
            "\n",
            "Some weights or buffers of the TF 2.0 model TFBertForSequenceClassification were not initialized from the PyTorch model and are newly initialized: ['classifier.weight', 'classifier.bias']\n",
            "You should probably TRAIN this model on a down-stream task to be able to use it for predictions and inference.\n"
          ]
        }
      ],
      "source": [
        "# Model initialization using BERT for sequence classification\n",
        "model = TFBertForSequenceClassification.from_pretrained('bert-base-uncased', num_labels=num_classes)"
      ]
    },
    {
      "cell_type": "code",
      "execution_count": null,
      "metadata": {
        "id": "Z96XxQoZnz_L",
        "colab": {
          "base_uri": "https://localhost:8080/"
        },
        "outputId": "aa29e664-ac0a-47f6-df05-4fa7a0b73c35"
      },
      "outputs": [
        {
          "output_type": "stream",
          "name": "stdout",
          "text": [
            "Model: \"tf_bert_for_sequence_classification\"\n",
            "_________________________________________________________________\n",
            " Layer (type)                Output Shape              Param #   \n",
            "=================================================================\n",
            " bert (TFBertMainLayer)      multiple                  109482240 \n",
            "                                                                 \n",
            " dropout_37 (Dropout)        multiple                  0 (unused)\n",
            "                                                                 \n",
            " classifier (Dense)          multiple                  4614      \n",
            "                                                                 \n",
            "=================================================================\n",
            "Total params: 109486854 (417.66 MB)\n",
            "Trainable params: 109486854 (417.66 MB)\n",
            "Non-trainable params: 0 (0.00 Byte)\n",
            "_________________________________________________________________\n"
          ]
        }
      ],
      "source": [
        "# print the summary of the model\n",
        "model.summary()"
      ]
    },
    {
      "cell_type": "markdown",
      "metadata": {
        "id": "tOOFfQIWh3_G"
      },
      "source": [
        "### Fine-tuning the model"
      ]
    },
    {
      "cell_type": "code",
      "execution_count": null,
      "metadata": {
        "id": "dkbqKqzCa2gf"
      },
      "outputs": [],
      "source": [
        "# setting the learning rate for the optimizer\n",
        "learning_rate = 1e-5\n",
        "\n",
        "# Setting the optimizer to Adam\n",
        "optimizer = tf.keras.optimizers.Adam(learning_rate=learning_rate, epsilon=1e-08)\n",
        "\n",
        "# Specify the loss function for the model\n",
        "loss = tf.keras.losses.SparseCategoricalCrossentropy(from_logits=True)\n",
        "\n",
        "# Define evaluation metric(s) for the model\n",
        "metric = [tf.keras.metrics.SparseCategoricalAccuracy('accuracy')]\n",
        "\n",
        "# Compile the model with the chosen optimizer, loss function, and metrics\n",
        "model.compile(optimizer=optimizer, loss=loss, metrics=metric)"
      ]
    },
    {
      "cell_type": "markdown",
      "metadata": {
        "id": "XkgFSlWjZxaL"
      },
      "source": [
        "**Class imbalance** occurs when the distribution of classes in the training data is not uniform, meaning some classes have significantly fewer examples than others. If left unaddressed, models trained on imbalanced datasets may be biased toward the majority class and perform poorly on minority classes.\n",
        "\n",
        "By adjusting the class weights, we guide the model to give more emphasis to underrepresented classes. This can result in a more balanced and accurate model for sequence classification."
      ]
    },
    {
      "cell_type": "code",
      "execution_count": null,
      "metadata": {
        "id": "svCoIAK5bQL9"
      },
      "outputs": [],
      "source": [
        "# Calculate class weights for imbalanced dataset\n",
        "cw = (y_train_enc.shape[0]) / np.bincount(y_train_enc)\n",
        "\n",
        "# Create a dictionary mapping class indices to their respective class weights\n",
        "cw_dict = {}\n",
        "for i in range(cw.shape[0]):\n",
        "    cw_dict[encoder.transform(encoder.classes_)[i]] = cw[i]"
      ]
    },
    {
      "cell_type": "markdown",
      "metadata": {
        "id": "Hfx3DIGKas0s"
      },
      "source": [
        "**Epochs** refer to the number of times the entire training dataset is passed forward and backward through the neural network. Each pass through the entire dataset is considered one epoch.\n",
        "The goal is to minimize the difference between the model's predictions and the actual target values. Choosing an appropriate number of training epochs is crucial for achieving good performance without overfitting or underfitting the model.\n",
        "When fine-tuning a pre-trained BERT model for a specific task, it's common to use a smaller number of training epochs compared to training from scratch."
      ]
    },
    {
      "cell_type": "code",
      "execution_count": null,
      "metadata": {
        "id": "RNf_RGMGbZAA",
        "colab": {
          "base_uri": "https://localhost:8080/"
        },
        "outputId": "af16ff66-f950-45e7-9539-6abc09a5c16b"
      },
      "outputs": [
        {
          "output_type": "stream",
          "name": "stdout",
          "text": [
            "Epoch 1/3\n",
            "408/408 [==============================] - 452s 1000ms/step - loss: 6.8506 - accuracy: 0.7258 - val_loss: 0.4686 - val_accuracy: 0.8897\n",
            "Epoch 2/3\n",
            "408/408 [==============================] - 411s 1s/step - loss: 2.2147 - accuracy: 0.9077 - val_loss: 0.3154 - val_accuracy: 0.9020\n",
            "Epoch 3/3\n",
            "408/408 [==============================] - 407s 998ms/step - loss: 1.2500 - accuracy: 0.9328 - val_loss: 0.2555 - val_accuracy: 0.9191\n"
          ]
        }
      ],
      "source": [
        "# Number of training epochs\n",
        "n_epochs = 3\n",
        "\n",
        "bert_base_tuned = model.fit(train_tokenized_tf, epochs=n_epochs, validation_data=valid_tokenized_tf, class_weight=cw_dict)"
      ]
    },
    {
      "cell_type": "code",
      "execution_count": null,
      "metadata": {
        "id": "R4g_Tqsob3ZJ",
        "colab": {
          "base_uri": "https://localhost:8080/"
        },
        "outputId": "e1976daa-688a-4383-f0ae-b52c6fb161ac"
      },
      "outputs": [
        {
          "output_type": "stream",
          "name": "stdout",
          "text": [
            "51/51 [==============================] - 23s 342ms/step\n"
          ]
        },
        {
          "output_type": "execute_result",
          "data": {
            "text/plain": [
              "(408,)"
            ]
          },
          "metadata": {},
          "execution_count": 37
        }
      ],
      "source": [
        "# Generate raw predictions on the validation dataset using the trained model\n",
        "preds_raw_val = model.predict(valid_tokenized_tf)\n",
        "\n",
        "# Extract predicted labels by finding the index with the highest probability for each example\n",
        "preds_val = np.argmax(np.array(tf.nn.softmax(preds_raw_val.logits)), axis=1)\n",
        "\n",
        "# Display the shape of the predicted labels array\n",
        "preds_val.shape"
      ]
    },
    {
      "cell_type": "code",
      "execution_count": null,
      "metadata": {
        "id": "k0gfNvSzOx4W",
        "colab": {
          "base_uri": "https://localhost:8080/",
          "height": 558
        },
        "outputId": "783db9dd-497c-4c1b-8241-559d1fc16517"
      },
      "outputs": [
        {
          "output_type": "display_data",
          "data": {
            "text/plain": [
              "<Figure size 640x480 with 2 Axes>"
            ],
            "image/png": "[encoded data removed]"
          },
          "metadata": {}
        }
      ],
      "source": [
        "# retrieving the labels from the tensorflow dataset\n",
        "actual_val = np.concatenate([y for x, y in valid_tokenized_tf], axis=0)\n",
        "\n",
        "# Creating confusion matrix\n",
        "cnf_mt = confusion_matrix(actual_val, preds_val)\n",
        "\n",
        "# Visualizing confusion matrix using a heatmap\n",
        "labels = encoder.classes_.tolist()\n",
        "sns.heatmap(cnf_mt, annot=True, fmt='d', cmap='Blues', xticklabels=labels, yticklabels=labels)\n",
        "plt.xlabel('Predicted')\n",
        "plt.ylabel('Actual')\n",
        "plt.title('Confusion Matrix')\n",
        "plt.show()"
      ]
    },
    {
      "cell_type": "code",
      "execution_count": null,
      "metadata": {
        "id": "mmiv-Near8Bc",
        "colab": {
          "base_uri": "https://localhost:8080/"
        },
        "outputId": "f95d59df-208c-4b93-a5ae-c400d9a7a15e"
      },
      "outputs": [
        {
          "output_type": "stream",
          "name": "stdout",
          "text": [
            "Classification Report:\n",
            "              precision    recall  f1-score   support\n",
            "\n",
            "           0       0.70      0.70      0.70        10\n",
            "           1       0.46      1.00      0.63         6\n",
            "           2       0.25      0.80      0.38         5\n",
            "           3       0.97      0.86      0.91       161\n",
            "           4       0.70      0.88      0.78         8\n",
            "           5       0.99      0.98      0.98       218\n",
            "\n",
            "    accuracy                           0.92       408\n",
            "   macro avg       0.68      0.87      0.73       408\n",
            "weighted avg       0.95      0.92      0.93       408\n",
            "\n"
          ]
        }
      ],
      "source": [
        "# Display classification report\n",
        "print('Classification Report:')\n",
        "print(classification_report(actual_val, preds_val))"
      ]
    },
    {
      "cell_type": "markdown",
      "metadata": {
        "id": "NTCaMHCX9xxW"
      },
      "source": [
        "- The model achieved ~93% accuracy on the validation set"
      ]
    },
    {
      "cell_type": "markdown",
      "metadata": {
        "id": "gmofDrtqO21p"
      },
      "source": [
        "## Model Testing"
      ]
    },
    {
      "cell_type": "code",
      "execution_count": null,
      "metadata": {
        "id": "LSMdBiUUsTGl",
        "colab": {
          "base_uri": "https://localhost:8080/"
        },
        "outputId": "0a1e6990-66a7-48be-d2f1-460dcd9139ac"
      },
      "outputs": [
        {
          "output_type": "stream",
          "name": "stdout",
          "text": [
            "51/51 [==============================] - 18s 352ms/step\n"
          ]
        },
        {
          "output_type": "execute_result",
          "data": {
            "text/plain": [
              "(408,)"
            ]
          },
          "metadata": {},
          "execution_count": 40
        }
      ],
      "source": [
        "preds_raw_test = model.predict(test_tokenized_tf)\n",
        "preds_test = np.argmax(np.array(tf.nn.softmax(preds_raw_test.logits)), axis=1)\n",
        "preds_test.shape"
      ]
    },
    {
      "cell_type": "code",
      "execution_count": null,
      "metadata": {
        "id": "ZlZobg5ksnm2",
        "colab": {
          "base_uri": "https://localhost:8080/",
          "height": 558
        },
        "outputId": "0b0f4088-a4ce-463b-8549-5999dc5d7231"
      },
      "outputs": [
        {
          "output_type": "display_data",
          "data": {
            "text/plain": [
              "<Figure size 640x480 with 2 Axes>"
            ],
            "image/png": "[encoded data removed]"
          },
          "metadata": {}
        }
      ],
      "source": [
        "actual_test = np.concatenate([y for x, y in test_tokenized_tf], axis=0)\n",
        "\n",
        "cnf_mt = confusion_matrix(actual_test, preds_test)\n",
        "\n",
        "labels = encoder.classes_.tolist()\n",
        "sns.heatmap(cnf_mt, annot=True, fmt='d', cmap='Blues', xticklabels=labels, yticklabels=labels)\n",
        "plt.xlabel('Predicted')\n",
        "plt.ylabel('Actual')\n",
        "plt.title('Confusion Matrix')\n",
        "plt.show()"
      ]
    },
    {
      "cell_type": "code",
      "execution_count": null,
      "metadata": {
        "id": "5QW-4VNjsnnH",
        "colab": {
          "base_uri": "https://localhost:8080/"
        },
        "outputId": "f07989d0-cdbc-45d5-a605-31238e5990ec"
      },
      "outputs": [
        {
          "output_type": "stream",
          "name": "stdout",
          "text": [
            "Classification Report:\n",
            "              precision    recall  f1-score   support\n",
            "\n",
            "           0       0.90      0.82      0.86        11\n",
            "           1       0.71      0.83      0.77         6\n",
            "           2       0.27      0.60      0.37         5\n",
            "           3       0.96      0.92      0.94       161\n",
            "           4       0.60      0.86      0.71         7\n",
            "           5       0.99      0.98      0.99       218\n",
            "\n",
            "    accuracy                           0.94       408\n",
            "   macro avg       0.74      0.83      0.77       408\n",
            "weighted avg       0.96      0.94      0.95       408\n",
            "\n"
          ]
        }
      ],
      "source": [
        "print('Classification Report:')\n",
        "print(classification_report(actual_test, preds_test))"
      ]
    },
    {
      "cell_type": "markdown",
      "metadata": {
        "id": "ZM-A_eQRLRHu"
      },
      "source": [
        "- The model achieved ~95% accuracy on the test set"
      ]
    },
    {
      "cell_type": "markdown",
      "metadata": {
        "id": "POiZVSfrpmRf"
      },
      "source": [
        "## Summary"
      ]
    },
    {
      "cell_type": "markdown",
      "metadata": {
        "id": "8mD3wYmpd_kH"
      },
      "source": [
        "- We fine-tuned a BERT model to classify news articles into different categories with an accuracy of 95% on the test set\n",
        "\n",
        "- To further improve the model performance, especially on the minority categories (like entertainment, health, and politics articles), one caan collect more articles from these categories"
      ]
    },
    {
      "cell_type": "markdown",
      "metadata": {
        "id": "wFzgqrtFoHNk"
      },
      "source": [
        "___"
      ]
    }
  ],
  "metadata": {
    "accelerator": "GPU",
    "colab": {
      "provenance": [],
      "include_colab_link": true
    },
    "kernelspec": {
      "display_name": "Python 3",
      "name": "python3"
    },
    "language_info": {
      "name": "python"
    },
    "widgets": {
      "application/vnd.jupyter.widget-state+json": {
        "f0c8900770d649469ff60c935e9bc390": {
          "model_module": "@jupyter-widgets/controls",
          "model_name": "HBoxModel",
          "model_module_version": "1.5.0",
          "state": {
            "_dom_classes": [],
            "_model_module": "@jupyter-widgets/controls",
            "_model_module_version": "1.5.0",
            "_model_name": "HBoxModel",
            "_view_count": null,
            "_view_module": "@jupyter-widgets/controls",
            "_view_module_version": "1.5.0",
            "_view_name": "HBoxView",
            "box_style": "",
            "children": [
              "IPY_MODEL_76c04575120941b9b60ea45006ce8cdb",
              "IPY_MODEL_a60352358b7d46cf876f16d0ee82d807",
              "IPY_MODEL_3b6481335b494db8a9a1554da8dfadd3"
            ],
            "layout": "IPY_MODEL_abbb8163090e4f148bc461acbdbed1d9"
          }
        },
        "76c04575120941b9b60ea45006ce8cdb": {
          "model_module": "@jupyter-widgets/controls",
          "model_name": "HTMLModel",
          "model_module_version": "1.5.0",
          "state": {
            "_dom_classes": [],
            "_model_module": "@jupyter-widgets/controls",
            "_model_module_version": "1.5.0",
            "_model_name": "HTMLModel",
            "_view_count": null,
            "_view_module": "@jupyter-widgets/controls",
            "_view_module_version": "1.5.0",
            "_view_name": "HTMLView",
            "description": "",
            "description_tooltip": null,
            "layout": "IPY_MODEL_3b5d34e466434eea9094944d7e84549e",
            "placeholder": "​",
            "style": "IPY_MODEL_d4ae29c92b034a18a7bf41a2e0285865",
            "value": "tokenizer_config.json: 100%"
          }
        },
        "a60352358b7d46cf876f16d0ee82d807": {
          "model_module": "@jupyter-widgets/controls",
          "model_name": "FloatProgressModel",
          "model_module_version": "1.5.0",
          "state": {
            "_dom_classes": [],
            "_model_module": "@jupyter-widgets/controls",
            "_model_module_version": "1.5.0",
            "_model_name": "FloatProgressModel",
            "_view_count": null,
            "_view_module": "@jupyter-widgets/controls",
            "_view_module_version": "1.5.0",
            "_view_name": "ProgressView",
            "bar_style": "success",
            "description": "",
            "description_tooltip": null,
            "layout": "IPY_MODEL_d6c7bebe8d154bf1aad3c7626f3de4ba",
            "max": 48,
            "min": 0,
            "orientation": "horizontal",
            "style": "IPY_MODEL_361f5ebef0b7438186a98bdec8d00397",
            "value": 48
          }
        },
        "3b6481335b494db8a9a1554da8dfadd3": {
          "model_module": "@jupyter-widgets/controls",
          "model_name": "HTMLModel",
          "model_module_version": "1.5.0",
          "state": {
            "_dom_classes": [],
            "_model_module": "@jupyter-widgets/controls",
            "_model_module_version": "1.5.0",
            "_model_name": "HTMLModel",
            "_view_count": null,
            "_view_module": "@jupyter-widgets/controls",
            "_view_module_version": "1.5.0",
            "_view_name": "HTMLView",
            "description": "",
            "description_tooltip": null,
            "layout": "IPY_MODEL_a9d7689a093d4fcf8ac24cdaa8a87274",
            "placeholder": "​",
            "style": "IPY_MODEL_b414f3efb83e46c4a21ac1c80bb78412",
            "value": " 48.0/48.0 [00:00&lt;00:00, 2.59kB/s]"
          }
        },
        "abbb8163090e4f148bc461acbdbed1d9": {
          "model_module": "@jupyter-widgets/base",
          "model_name": "LayoutModel",
          "model_module_version": "1.2.0",
          "state": {
            "_model_module": "@jupyter-widgets/base",
            "_model_module_version": "1.2.0",
            "_model_name": "LayoutModel",
            "_view_count": null,
            "_view_module": "@jupyter-widgets/base",
            "_view_module_version": "1.2.0",
            "_view_name": "LayoutView",
            "align_content": null,
            "align_items": null,
            "align_self": null,
            "border": null,
            "bottom": null,
            "display": null,
            "flex": null,
            "flex_flow": null,
            "grid_area": null,
            "grid_auto_columns": null,
            "grid_auto_flow": null,
            "grid_auto_rows": null,
            "grid_column": null,
            "grid_gap": null,
            "grid_row": null,
            "grid_template_areas": null,
            "grid_template_columns": null,
            "grid_template_rows": null,
            "height": null,
            "justify_content": null,
            "justify_items": null,
            "left": null,
            "margin": null,
            "max_height": null,
            "max_width": null,
            "min_height": null,
            "min_width": null,
            "object_fit": null,
            "object_position": null,
            "order": null,
            "overflow": null,
            "overflow_x": null,
            "overflow_y": null,
            "padding": null,
            "right": null,
            "top": null,
            "visibility": null,
            "width": null
          }
        },
        "3b5d34e466434eea9094944d7e84549e": {
          "model_module": "@jupyter-widgets/base",
          "model_name": "LayoutModel",
          "model_module_version": "1.2.0",
          "state": {
            "_model_module": "@jupyter-widgets/base",
            "_model_module_version": "1.2.0",
            "_model_name": "LayoutModel",
            "_view_count": null,
            "_view_module": "@jupyter-widgets/base",
            "_view_module_version": "1.2.0",
            "_view_name": "LayoutView",
            "align_content": null,
            "align_items": null,
            "align_self": null,
            "border": null,
            "bottom": null,
            "display": null,
            "flex": null,
            "flex_flow": null,
            "grid_area": null,
            "grid_auto_columns": null,
            "grid_auto_flow": null,
            "grid_auto_rows": null,
            "grid_column": null,
            "grid_gap": null,
            "grid_row": null,
            "grid_template_areas": null,
            "grid_template_columns": null,
            "grid_template_rows": null,
            "height": null,
            "justify_content": null,
            "justify_items": null,
            "left": null,
            "margin": null,
            "max_height": null,
            "max_width": null,
            "min_height": null,
            "min_width": null,
            "object_fit": null,
            "object_position": null,
            "order": null,
            "overflow": null,
            "overflow_x": null,
            "overflow_y": null,
            "padding": null,
            "right": null,
            "top": null,
            "visibility": null,
            "width": null
          }
        },
        "d4ae29c92b034a18a7bf41a2e0285865": {
          "model_module": "@jupyter-widgets/controls",
          "model_name": "DescriptionStyleModel",
          "model_module_version": "1.5.0",
          "state": {
            "_model_module": "@jupyter-widgets/controls",
            "_model_module_version": "1.5.0",
            "_model_name": "DescriptionStyleModel",
            "_view_count": null,
            "_view_module": "@jupyter-widgets/base",
            "_view_module_version": "1.2.0",
            "_view_name": "StyleView",
            "description_width": ""
          }
        },
        "d6c7bebe8d154bf1aad3c7626f3de4ba": {
          "model_module": "@jupyter-widgets/base",
          "model_name": "LayoutModel",
          "model_module_version": "1.2.0",
          "state": {
            "_model_module": "@jupyter-widgets/base",
            "_model_module_version": "1.2.0",
            "_model_name": "LayoutModel",
            "_view_count": null,
            "_view_module": "@jupyter-widgets/base",
            "_view_module_version": "1.2.0",
            "_view_name": "LayoutView",
            "align_content": null,
            "align_items": null,
            "align_self": null,
            "border": null,
            "bottom": null,
            "display": null,
            "flex": null,
            "flex_flow": null,
            "grid_area": null,
            "grid_auto_columns": null,
            "grid_auto_flow": null,
            "grid_auto_rows": null,
            "grid_column": null,
            "grid_gap": null,
            "grid_row": null,
            "grid_template_areas": null,
            "grid_template_columns": null,
            "grid_template_rows": null,
            "height": null,
            "justify_content": null,
            "justify_items": null,
            "left": null,
            "margin": null,
            "max_height": null,
            "max_width": null,
            "min_height": null,
            "min_width": null,
            "object_fit": null,
            "object_position": null,
            "order": null,
            "overflow": null,
            "overflow_x": null,
            "overflow_y": null,
            "padding": null,
            "right": null,
            "top": null,
            "visibility": null,
            "width": null
          }
        },
        "361f5ebef0b7438186a98bdec8d00397": {
          "model_module": "@jupyter-widgets/controls",
          "model_name": "ProgressStyleModel",
          "model_module_version": "1.5.0",
          "state": {
            "_model_module": "@jupyter-widgets/controls",
            "_model_module_version": "1.5.0",
            "_model_name": "ProgressStyleModel",
            "_view_count": null,
            "_view_module": "@jupyter-widgets/base",
            "_view_module_version": "1.2.0",
            "_view_name": "StyleView",
            "bar_color": null,
            "description_width": ""
          }
        },
        "a9d7689a093d4fcf8ac24cdaa8a87274": {
          "model_module": "@jupyter-widgets/base",
          "model_name": "LayoutModel",
          "model_module_version": "1.2.0",
          "state": {
            "_model_module": "@jupyter-widgets/base",
            "_model_module_version": "1.2.0",
            "_model_name": "LayoutModel",
            "_view_count": null,
            "_view_module": "@jupyter-widgets/base",
            "_view_module_version": "1.2.0",
            "_view_name": "LayoutView",
            "align_content": null,
            "align_items": null,
            "align_self": null,
            "border": null,
            "bottom": null,
            "display": null,
            "flex": null,
            "flex_flow": null,
            "grid_area": null,
            "grid_auto_columns": null,
            "grid_auto_flow": null,
            "grid_auto_rows": null,
            "grid_column": null,
            "grid_gap": null,
            "grid_row": null,
            "grid_template_areas": null,
            "grid_template_columns": null,
            "grid_template_rows": null,
            "height": null,
            "justify_content": null,
            "justify_items": null,
            "left": null,
            "margin": null,
            "max_height": null,
            "max_width": null,
            "min_height": null,
            "min_width": null,
            "object_fit": null,
            "object_position": null,
            "order": null,
            "overflow": null,
            "overflow_x": null,
            "overflow_y": null,
            "padding": null,
            "right": null,
            "top": null,
            "visibility": null,
            "width": null
          }
        },
        "b414f3efb83e46c4a21ac1c80bb78412": {
          "model_module": "@jupyter-widgets/controls",
          "model_name": "DescriptionStyleModel",
          "model_module_version": "1.5.0",
          "state": {
            "_model_module": "@jupyter-widgets/controls",
            "_model_module_version": "1.5.0",
            "_model_name": "DescriptionStyleModel",
            "_view_count": null,
            "_view_module": "@jupyter-widgets/base",
            "_view_module_version": "1.2.0",
            "_view_name": "StyleView",
            "description_width": ""
          }
        },
        "4db9e252fb75456f848607da2f1d3663": {
          "model_module": "@jupyter-widgets/controls",
          "model_name": "HBoxModel",
          "model_module_version": "1.5.0",
          "state": {
            "_dom_classes": [],
            "_model_module": "@jupyter-widgets/controls",
            "_model_module_version": "1.5.0",
            "_model_name": "HBoxModel",
            "_view_count": null,
            "_view_module": "@jupyter-widgets/controls",
            "_view_module_version": "1.5.0",
            "_view_name": "HBoxView",
            "box_style": "",
            "children": [
              "IPY_MODEL_735d57f75fe04a459c595663be45deea",
              "IPY_MODEL_18fe455b0c2c4372b078300743410a6d",
              "IPY_MODEL_b6704ea730184836b9c0cd89c4b9dd70"
            ],
            "layout": "IPY_MODEL_e7dc147215cc44d0a5ba6c238bd91ca7"
          }
        },
        "735d57f75fe04a459c595663be45deea": {
          "model_module": "@jupyter-widgets/controls",
          "model_name": "HTMLModel",
          "model_module_version": "1.5.0",
          "state": {
            "_dom_classes": [],
            "_model_module": "@jupyter-widgets/controls",
            "_model_module_version": "1.5.0",
            "_model_name": "HTMLModel",
            "_view_count": null,
            "_view_module": "@jupyter-widgets/controls",
            "_view_module_version": "1.5.0",
            "_view_name": "HTMLView",
            "description": "",
            "description_tooltip": null,
            "layout": "IPY_MODEL_310fa33cd5ec4b5e9e9c0e70e551d2e2",
            "placeholder": "​",
            "style": "IPY_MODEL_7778e877ef7f471fa9c80a8be5d4451a",
            "value": "vocab.txt: 100%"
          }
        },
        "18fe455b0c2c4372b078300743410a6d": {
          "model_module": "@jupyter-widgets/controls",
          "model_name": "FloatProgressModel",
          "model_module_version": "1.5.0",
          "state": {
            "_dom_classes": [],
            "_model_module": "@jupyter-widgets/controls",
            "_model_module_version": "1.5.0",
            "_model_name": "FloatProgressModel",
            "_view_count": null,
            "_view_module": "@jupyter-widgets/controls",
            "_view_module_version": "1.5.0",
            "_view_name": "ProgressView",
            "bar_style": "success",
            "description": "",
            "description_tooltip": null,
            "layout": "IPY_MODEL_00abad2a051842a691dca5c8614bf9c2",
            "max": 231508,
            "min": 0,
            "orientation": "horizontal",
            "style": "IPY_MODEL_0d54966351a0465cba4d2f19b1acc7d3",
            "value": 231508
          }
        },
        "b6704ea730184836b9c0cd89c4b9dd70": {
          "model_module": "@jupyter-widgets/controls",
          "model_name": "HTMLModel",
          "model_module_version": "1.5.0",
          "state": {
            "_dom_classes": [],
            "_model_module": "@jupyter-widgets/controls",
            "_model_module_version": "1.5.0",
            "_model_name": "HTMLModel",
            "_view_count": null,
            "_view_module": "@jupyter-widgets/controls",
            "_view_module_version": "1.5.0",
            "_view_name": "HTMLView",
            "description": "",
            "description_tooltip": null,
            "layout": "IPY_MODEL_ac2650e570f248159629d5517458a042",
            "placeholder": "​",
            "style": "IPY_MODEL_831672db9e594605ad129ef52121ac38",
            "value": " 232k/232k [00:00&lt;00:00, 2.95MB/s]"
          }
        },
        "e7dc147215cc44d0a5ba6c238bd91ca7": {
          "model_module": "@jupyter-widgets/base",
          "model_name": "LayoutModel",
          "model_module_version": "1.2.0",
          "state": {
            "_model_module": "@jupyter-widgets/base",
            "_model_module_version": "1.2.0",
            "_model_name": "LayoutModel",
            "_view_count": null,
            "_view_module": "@jupyter-widgets/base",
            "_view_module_version": "1.2.0",
            "_view_name": "LayoutView",
            "align_content": null,
            "align_items": null,
            "align_self": null,
            "border": null,
            "bottom": null,
            "display": null,
            "flex": null,
            "flex_flow": null,
            "grid_area": null,
            "grid_auto_columns": null,
            "grid_auto_flow": null,
            "grid_auto_rows": null,
            "grid_column": null,
            "grid_gap": null,
            "grid_row": null,
            "grid_template_areas": null,
            "grid_template_columns": null,
            "grid_template_rows": null,
            "height": null,
            "justify_content": null,
            "justify_items": null,
            "left": null,
            "margin": null,
            "max_height": null,
            "max_width": null,
            "min_height": null,
            "min_width": null,
            "object_fit": null,
            "object_position": null,
            "order": null,
            "overflow": null,
            "overflow_x": null,
            "overflow_y": null,
            "padding": null,
            "right": null,
            "top": null,
            "visibility": null,
            "width": null
          }
        },
        "310fa33cd5ec4b5e9e9c0e70e551d2e2": {
          "model_module": "@jupyter-widgets/base",
          "model_name": "LayoutModel",
          "model_module_version": "1.2.0",
          "state": {
            "_model_module": "@jupyter-widgets/base",
            "_model_module_version": "1.2.0",
            "_model_name": "LayoutModel",
            "_view_count": null,
            "_view_module": "@jupyter-widgets/base",
            "_view_module_version": "1.2.0",
            "_view_name": "LayoutView",
            "align_content": null,
            "align_items": null,
            "align_self": null,
            "border": null,
            "bottom": null,
            "display": null,
            "flex": null,
            "flex_flow": null,
            "grid_area": null,
            "grid_auto_columns": null,
            "grid_auto_flow": null,
            "grid_auto_rows": null,
            "grid_column": null,
            "grid_gap": null,
            "grid_row": null,
            "grid_template_areas": null,
            "grid_template_columns": null,
            "grid_template_rows": null,
            "height": null,
            "justify_content": null,
            "justify_items": null,
            "left": null,
            "margin": null,
            "max_height": null,
            "max_width": null,
            "min_height": null,
            "min_width": null,
            "object_fit": null,
            "object_position": null,
            "order": null,
            "overflow": null,
            "overflow_x": null,
            "overflow_y": null,
            "padding": null,
            "right": null,
            "top": null,
            "visibility": null,
            "width": null
          }
        },
        "7778e877ef7f471fa9c80a8be5d4451a": {
          "model_module": "@jupyter-widgets/controls",
          "model_name": "DescriptionStyleModel",
          "model_module_version": "1.5.0",
          "state": {
            "_model_module": "@jupyter-widgets/controls",
            "_model_module_version": "1.5.0",
            "_model_name": "DescriptionStyleModel",
            "_view_count": null,
            "_view_module": "@jupyter-widgets/base",
            "_view_module_version": "1.2.0",
            "_view_name": "StyleView",
            "description_width": ""
          }
        },
        "00abad2a051842a691dca5c8614bf9c2": {
          "model_module": "@jupyter-widgets/base",
          "model_name": "LayoutModel",
          "model_module_version": "1.2.0",
          "state": {
            "_model_module": "@jupyter-widgets/base",
            "_model_module_version": "1.2.0",
            "_model_name": "LayoutModel",
            "_view_count": null,
            "_view_module": "@jupyter-widgets/base",
            "_view_module_version": "1.2.0",
            "_view_name": "LayoutView",
            "align_content": null,
            "align_items": null,
            "align_self": null,
            "border": null,
            "bottom": null,
            "display": null,
            "flex": null,
            "flex_flow": null,
            "grid_area": null,
            "grid_auto_columns": null,
            "grid_auto_flow": null,
            "grid_auto_rows": null,
            "grid_column": null,
            "grid_gap": null,
            "grid_row": null,
            "grid_template_areas": null,
            "grid_template_columns": null,
            "grid_template_rows": null,
            "height": null,
            "justify_content": null,
            "justify_items": null,
            "left": null,
            "margin": null,
            "max_height": null,
            "max_width": null,
            "min_height": null,
            "min_width": null,
            "object_fit": null,
            "object_position": null,
            "order": null,
            "overflow": null,
            "overflow_x": null,
            "overflow_y": null,
            "padding": null,
            "right": null,
            "top": null,
            "visibility": null,
            "width": null
          }
        },
        "0d54966351a0465cba4d2f19b1acc7d3": {
          "model_module": "@jupyter-widgets/controls",
          "model_name": "ProgressStyleModel",
          "model_module_version": "1.5.0",
          "state": {
            "_model_module": "@jupyter-widgets/controls",
            "_model_module_version": "1.5.0",
            "_model_name": "ProgressStyleModel",
            "_view_count": null,
            "_view_module": "@jupyter-widgets/base",
            "_view_module_version": "1.2.0",
            "_view_name": "StyleView",
            "bar_color": null,
            "description_width": ""
          }
        },
        "ac2650e570f248159629d5517458a042": {
          "model_module": "@jupyter-widgets/base",
          "model_name": "LayoutModel",
          "model_module_version": "1.2.0",
          "state": {
            "_model_module": "@jupyter-widgets/base",
            "_model_module_version": "1.2.0",
            "_model_name": "LayoutModel",
            "_view_count": null,
            "_view_module": "@jupyter-widgets/base",
            "_view_module_version": "1.2.0",
            "_view_name": "LayoutView",
            "align_content": null,
            "align_items": null,
            "align_self": null,
            "border": null,
            "bottom": null,
            "display": null,
            "flex": null,
            "flex_flow": null,
            "grid_area": null,
            "grid_auto_columns": null,
            "grid_auto_flow": null,
            "grid_auto_rows": null,
            "grid_column": null,
            "grid_gap": null,
            "grid_row": null,
            "grid_template_areas": null,
            "grid_template_columns": null,
            "grid_template_rows": null,
            "height": null,
            "justify_content": null,
            "justify_items": null,
            "left": null,
            "margin": null,
            "max_height": null,
            "max_width": null,
            "min_height": null,
            "min_width": null,
            "object_fit": null,
            "object_position": null,
            "order": null,
            "overflow": null,
            "overflow_x": null,
            "overflow_y": null,
            "padding": null,
            "right": null,
            "top": null,
            "visibility": null,
            "width": null
          }
        },
        "831672db9e594605ad129ef52121ac38": {
          "model_module": "@jupyter-widgets/controls",
          "model_name": "DescriptionStyleModel",
          "model_module_version": "1.5.0",
          "state": {
            "_model_module": "@jupyter-widgets/controls",
            "_model_module_version": "1.5.0",
            "_model_name": "DescriptionStyleModel",
            "_view_count": null,
            "_view_module": "@jupyter-widgets/base",
            "_view_module_version": "1.2.0",
            "_view_name": "StyleView",
            "description_width": ""
          }
        },
        "e17ea4ce851c49f4b262fb97fedb398a": {
          "model_module": "@jupyter-widgets/controls",
          "model_name": "HBoxModel",
          "model_module_version": "1.5.0",
          "state": {
            "_dom_classes": [],
            "_model_module": "@jupyter-widgets/controls",
            "_model_module_version": "1.5.0",
            "_model_name": "HBoxModel",
            "_view_count": null,
            "_view_module": "@jupyter-widgets/controls",
            "_view_module_version": "1.5.0",
            "_view_name": "HBoxView",
            "box_style": "",
            "children": [
              "IPY_MODEL_0ab5efbd75af453b937ea2255e54878a",
              "IPY_MODEL_f7ae46e1a3a8448bb3073a351037fd4e",
              "IPY_MODEL_4823a0c1c09b46ed8404cf6b73d79edb"
            ],
            "layout": "IPY_MODEL_2f5fc52caab64fdba2a9e53b1e4f37c6"
          }
        },
        "0ab5efbd75af453b937ea2255e54878a": {
          "model_module": "@jupyter-widgets/controls",
          "model_name": "HTMLModel",
          "model_module_version": "1.5.0",
          "state": {
            "_dom_classes": [],
            "_model_module": "@jupyter-widgets/controls",
            "_model_module_version": "1.5.0",
            "_model_name": "HTMLModel",
            "_view_count": null,
            "_view_module": "@jupyter-widgets/controls",
            "_view_module_version": "1.5.0",
            "_view_name": "HTMLView",
            "description": "",
            "description_tooltip": null,
            "layout": "IPY_MODEL_fb6b3e22e73d4b75b80dcdac664cc1d7",
            "placeholder": "​",
            "style": "IPY_MODEL_f754f3d60c2c401aacc1d6008f6cf61e",
            "value": "tokenizer.json: 100%"
          }
        },
        "f7ae46e1a3a8448bb3073a351037fd4e": {
          "model_module": "@jupyter-widgets/controls",
          "model_name": "FloatProgressModel",
          "model_module_version": "1.5.0",
          "state": {
            "_dom_classes": [],
            "_model_module": "@jupyter-widgets/controls",
            "_model_module_version": "1.5.0",
            "_model_name": "FloatProgressModel",
            "_view_count": null,
            "_view_module": "@jupyter-widgets/controls",
            "_view_module_version": "1.5.0",
            "_view_name": "ProgressView",
            "bar_style": "success",
            "description": "",
            "description_tooltip": null,
            "layout": "IPY_MODEL_b78de60a43d9405e9b84e09710d761c1",
            "max": 466062,
            "min": 0,
            "orientation": "horizontal",
            "style": "IPY_MODEL_264833dd520e4e368457ac840c9d7b02",
            "value": 466062
          }
        },
        "4823a0c1c09b46ed8404cf6b73d79edb": {
          "model_module": "@jupyter-widgets/controls",
          "model_name": "HTMLModel",
          "model_module_version": "1.5.0",
          "state": {
            "_dom_classes": [],
            "_model_module": "@jupyter-widgets/controls",
            "_model_module_version": "1.5.0",
            "_model_name": "HTMLModel",
            "_view_count": null,
            "_view_module": "@jupyter-widgets/controls",
            "_view_module_version": "1.5.0",
            "_view_name": "HTMLView",
            "description": "",
            "description_tooltip": null,
            "layout": "IPY_MODEL_3e002185cbf947f2880457da76ca1018",
            "placeholder": "​",
            "style": "IPY_MODEL_4aee0f1a08c84197a7e90611821de02c",
            "value": " 466k/466k [00:00&lt;00:00, 3.41MB/s]"
          }
        },
        "2f5fc52caab64fdba2a9e53b1e4f37c6": {
          "model_module": "@jupyter-widgets/base",
          "model_name": "LayoutModel",
          "model_module_version": "1.2.0",
          "state": {
            "_model_module": "@jupyter-widgets/base",
            "_model_module_version": "1.2.0",
            "_model_name": "LayoutModel",
            "_view_count": null,
            "_view_module": "@jupyter-widgets/base",
            "_view_module_version": "1.2.0",
            "_view_name": "LayoutView",
            "align_content": null,
            "align_items": null,
            "align_self": null,
            "border": null,
            "bottom": null,
            "display": null,
            "flex": null,
            "flex_flow": null,
            "grid_area": null,
            "grid_auto_columns": null,
            "grid_auto_flow": null,
            "grid_auto_rows": null,
            "grid_column": null,
            "grid_gap": null,
            "grid_row": null,
            "grid_template_areas": null,
            "grid_template_columns": null,
            "grid_template_rows": null,
            "height": null,
            "justify_content": null,
            "justify_items": null,
            "left": null,
            "margin": null,
            "max_height": null,
            "max_width": null,
            "min_height": null,
            "min_width": null,
            "object_fit": null,
            "object_position": null,
            "order": null,
            "overflow": null,
            "overflow_x": null,
            "overflow_y": null,
            "padding": null,
            "right": null,
            "top": null,
            "visibility": null,
            "width": null
          }
        },
        "fb6b3e22e73d4b75b80dcdac664cc1d7": {
          "model_module": "@jupyter-widgets/base",
          "model_name": "LayoutModel",
          "model_module_version": "1.2.0",
          "state": {
            "_model_module": "@jupyter-widgets/base",
            "_model_module_version": "1.2.0",
            "_model_name": "LayoutModel",
            "_view_count": null,
            "_view_module": "@jupyter-widgets/base",
            "_view_module_version": "1.2.0",
            "_view_name": "LayoutView",
            "align_content": null,
            "align_items": null,
            "align_self": null,
            "border": null,
            "bottom": null,
            "display": null,
            "flex": null,
            "flex_flow": null,
            "grid_area": null,
            "grid_auto_columns": null,
            "grid_auto_flow": null,
            "grid_auto_rows": null,
            "grid_column": null,
            "grid_gap": null,
            "grid_row": null,
            "grid_template_areas": null,
            "grid_template_columns": null,
            "grid_template_rows": null,
            "height": null,
            "justify_content": null,
            "justify_items": null,
            "left": null,
            "margin": null,
            "max_height": null,
            "max_width": null,
            "min_height": null,
            "min_width": null,
            "object_fit": null,
            "object_position": null,
            "order": null,
            "overflow": null,
            "overflow_x": null,
            "overflow_y": null,
            "padding": null,
            "right": null,
            "top": null,
            "visibility": null,
            "width": null
          }
        },
        "f754f3d60c2c401aacc1d6008f6cf61e": {
          "model_module": "@jupyter-widgets/controls",
          "model_name": "DescriptionStyleModel",
          "model_module_version": "1.5.0",
          "state": {
            "_model_module": "@jupyter-widgets/controls",
            "_model_module_version": "1.5.0",
            "_model_name": "DescriptionStyleModel",
            "_view_count": null,
            "_view_module": "@jupyter-widgets/base",
            "_view_module_version": "1.2.0",
            "_view_name": "StyleView",
            "description_width": ""
          }
        },
        "b78de60a43d9405e9b84e09710d761c1": {
          "model_module": "@jupyter-widgets/base",
          "model_name": "LayoutModel",
          "model_module_version": "1.2.0",
          "state": {
            "_model_module": "@jupyter-widgets/base",
            "_model_module_version": "1.2.0",
            "_model_name": "LayoutModel",
            "_view_count": null,
            "_view_module": "@jupyter-widgets/base",
            "_view_module_version": "1.2.0",
            "_view_name": "LayoutView",
            "align_content": null,
            "align_items": null,
            "align_self": null,
            "border": null,
            "bottom": null,
            "display": null,
            "flex": null,
            "flex_flow": null,
            "grid_area": null,
            "grid_auto_columns": null,
            "grid_auto_flow": null,
            "grid_auto_rows": null,
            "grid_column": null,
            "grid_gap": null,
            "grid_row": null,
            "grid_template_areas": null,
            "grid_template_columns": null,
            "grid_template_rows": null,
            "height": null,
            "justify_content": null,
            "justify_items": null,
            "left": null,
            "margin": null,
            "max_height": null,
            "max_width": null,
            "min_height": null,
            "min_width": null,
            "object_fit": null,
            "object_position": null,
            "order": null,
            "overflow": null,
            "overflow_x": null,
            "overflow_y": null,
            "padding": null,
            "right": null,
            "top": null,
            "visibility": null,
            "width": null
          }
        },
        "264833dd520e4e368457ac840c9d7b02": {
          "model_module": "@jupyter-widgets/controls",
          "model_name": "ProgressStyleModel",
          "model_module_version": "1.5.0",
          "state": {
            "_model_module": "@jupyter-widgets/controls",
            "_model_module_version": "1.5.0",
            "_model_name": "ProgressStyleModel",
            "_view_count": null,
            "_view_module": "@jupyter-widgets/base",
            "_view_module_version": "1.2.0",
            "_view_name": "StyleView",
            "bar_color": null,
            "description_width": ""
          }
        },
        "3e002185cbf947f2880457da76ca1018": {
          "model_module": "@jupyter-widgets/base",
          "model_name": "LayoutModel",
          "model_module_version": "1.2.0",
          "state": {
            "_model_module": "@jupyter-widgets/base",
            "_model_module_version": "1.2.0",
            "_model_name": "LayoutModel",
            "_view_count": null,
            "_view_module": "@jupyter-widgets/base",
            "_view_module_version": "1.2.0",
            "_view_name": "LayoutView",
            "align_content": null,
            "align_items": null,
            "align_self": null,
            "border": null,
            "bottom": null,
            "display": null,
            "flex": null,
            "flex_flow": null,
            "grid_area": null,
            "grid_auto_columns": null,
            "grid_auto_flow": null,
            "grid_auto_rows": null,
            "grid_column": null,
            "grid_gap": null,
            "grid_row": null,
            "grid_template_areas": null,
            "grid_template_columns": null,
            "grid_template_rows": null,
            "height": null,
            "justify_content": null,
            "justify_items": null,
            "left": null,
            "margin": null,
            "max_height": null,
            "max_width": null,
            "min_height": null,
            "min_width": null,
            "object_fit": null,
            "object_position": null,
            "order": null,
            "overflow": null,
            "overflow_x": null,
            "overflow_y": null,
            "padding": null,
            "right": null,
            "top": null,
            "visibility": null,
            "width": null
          }
        },
        "4aee0f1a08c84197a7e90611821de02c": {
          "model_module": "@jupyter-widgets/controls",
          "model_name": "DescriptionStyleModel",
          "model_module_version": "1.5.0",
          "state": {
            "_model_module": "@jupyter-widgets/controls",
            "_model_module_version": "1.5.0",
            "_model_name": "DescriptionStyleModel",
            "_view_count": null,
            "_view_module": "@jupyter-widgets/base",
            "_view_module_version": "1.2.0",
            "_view_name": "StyleView",
            "description_width": ""
          }
        },
        "0e2c87a7173c43f7bd75c59f2ac01d88": {
          "model_module": "@jupyter-widgets/controls",
          "model_name": "HBoxModel",
          "model_module_version": "1.5.0",
          "state": {
            "_dom_classes": [],
            "_model_module": "@jupyter-widgets/controls",
            "_model_module_version": "1.5.0",
            "_model_name": "HBoxModel",
            "_view_count": null,
            "_view_module": "@jupyter-widgets/controls",
            "_view_module_version": "1.5.0",
            "_view_name": "HBoxView",
            "box_style": "",
            "children": [
              "IPY_MODEL_24e9f3a826db444d89e2d4643cfb5fcb",
              "IPY_MODEL_e49ed2696eb64f49b103148b234eee3f",
              "IPY_MODEL_5f81f738294543e0aa6548b44365823f"
            ],
            "layout": "IPY_MODEL_ec40b995177c406bbda93a7bdc121103"
          }
        },
        "24e9f3a826db444d89e2d4643cfb5fcb": {
          "model_module": "@jupyter-widgets/controls",
          "model_name": "HTMLModel",
          "model_module_version": "1.5.0",
          "state": {
            "_dom_classes": [],
            "_model_module": "@jupyter-widgets/controls",
            "_model_module_version": "1.5.0",
            "_model_name": "HTMLModel",
            "_view_count": null,
            "_view_module": "@jupyter-widgets/controls",
            "_view_module_version": "1.5.0",
            "_view_name": "HTMLView",
            "description": "",
            "description_tooltip": null,
            "layout": "IPY_MODEL_fe70fd42f96540718f79957159721547",
            "placeholder": "​",
            "style": "IPY_MODEL_c7ff7097c9fe4371b74f9a2539f27371",
            "value": "config.json: 100%"
          }
        },
        "e49ed2696eb64f49b103148b234eee3f": {
          "model_module": "@jupyter-widgets/controls",
          "model_name": "FloatProgressModel",
          "model_module_version": "1.5.0",
          "state": {
            "_dom_classes": [],
            "_model_module": "@jupyter-widgets/controls",
            "_model_module_version": "1.5.0",
            "_model_name": "FloatProgressModel",
            "_view_count": null,
            "_view_module": "@jupyter-widgets/controls",
            "_view_module_version": "1.5.0",
            "_view_name": "ProgressView",
            "bar_style": "success",
            "description": "",
            "description_tooltip": null,
            "layout": "IPY_MODEL_1990898bf5604cf2bf681d193ea2553f",
            "max": 570,
            "min": 0,
            "orientation": "horizontal",
            "style": "IPY_MODEL_86bdee31ba03486f83fda765feee979a",
            "value": 570
          }
        },
        "5f81f738294543e0aa6548b44365823f": {
          "model_module": "@jupyter-widgets/controls",
          "model_name": "HTMLModel",
          "model_module_version": "1.5.0",
          "state": {
            "_dom_classes": [],
            "_model_module": "@jupyter-widgets/controls",
            "_model_module_version": "1.5.0",
            "_model_name": "HTMLModel",
            "_view_count": null,
            "_view_module": "@jupyter-widgets/controls",
            "_view_module_version": "1.5.0",
            "_view_name": "HTMLView",
            "description": "",
            "description_tooltip": null,
            "layout": "IPY_MODEL_75d1a83ae5b84edd95a68d5ae8947f9c",
            "placeholder": "​",
            "style": "IPY_MODEL_a0c331167c3942bcb6dbc016ef611f44",
            "value": " 570/570 [00:00&lt;00:00, 38.8kB/s]"
          }
        },
        "ec40b995177c406bbda93a7bdc121103": {
          "model_module": "@jupyter-widgets/base",
          "model_name": "LayoutModel",
          "model_module_version": "1.2.0",
          "state": {
            "_model_module": "@jupyter-widgets/base",
            "_model_module_version": "1.2.0",
            "_model_name": "LayoutModel",
            "_view_count": null,
            "_view_module": "@jupyter-widgets/base",
            "_view_module_version": "1.2.0",
            "_view_name": "LayoutView",
            "align_content": null,
            "align_items": null,
            "align_self": null,
            "border": null,
            "bottom": null,
            "display": null,
            "flex": null,
            "flex_flow": null,
            "grid_area": null,
            "grid_auto_columns": null,
            "grid_auto_flow": null,
            "grid_auto_rows": null,
            "grid_column": null,
            "grid_gap": null,
            "grid_row": null,
            "grid_template_areas": null,
            "grid_template_columns": null,
            "grid_template_rows": null,
            "height": null,
            "justify_content": null,
            "justify_items": null,
            "left": null,
            "margin": null,
            "max_height": null,
            "max_width": null,
            "min_height": null,
            "min_width": null,
            "object_fit": null,
            "object_position": null,
            "order": null,
            "overflow": null,
            "overflow_x": null,
            "overflow_y": null,
            "padding": null,
            "right": null,
            "top": null,
            "visibility": null,
            "width": null
          }
        },
        "fe70fd42f96540718f79957159721547": {
          "model_module": "@jupyter-widgets/base",
          "model_name": "LayoutModel",
          "model_module_version": "1.2.0",
          "state": {
            "_model_module": "@jupyter-widgets/base",
            "_model_module_version": "1.2.0",
            "_model_name": "LayoutModel",
            "_view_count": null,
            "_view_module": "@jupyter-widgets/base",
            "_view_module_version": "1.2.0",
            "_view_name": "LayoutView",
            "align_content": null,
            "align_items": null,
            "align_self": null,
            "border": null,
            "bottom": null,
            "display": null,
            "flex": null,
            "flex_flow": null,
            "grid_area": null,
            "grid_auto_columns": null,
            "grid_auto_flow": null,
            "grid_auto_rows": null,
            "grid_column": null,
            "grid_gap": null,
            "grid_row": null,
            "grid_template_areas": null,
            "grid_template_columns": null,
            "grid_template_rows": null,
            "height": null,
            "justify_content": null,
            "justify_items": null,
            "left": null,
            "margin": null,
            "max_height": null,
            "max_width": null,
            "min_height": null,
            "min_width": null,
            "object_fit": null,
            "object_position": null,
            "order": null,
            "overflow": null,
            "overflow_x": null,
            "overflow_y": null,
            "padding": null,
            "right": null,
            "top": null,
            "visibility": null,
            "width": null
          }
        },
        "c7ff7097c9fe4371b74f9a2539f27371": {
          "model_module": "@jupyter-widgets/controls",
          "model_name": "DescriptionStyleModel",
          "model_module_version": "1.5.0",
          "state": {
            "_model_module": "@jupyter-widgets/controls",
            "_model_module_version": "1.5.0",
            "_model_name": "DescriptionStyleModel",
            "_view_count": null,
            "_view_module": "@jupyter-widgets/base",
            "_view_module_version": "1.2.0",
            "_view_name": "StyleView",
            "description_width": ""
          }
        },
        "1990898bf5604cf2bf681d193ea2553f": {
          "model_module": "@jupyter-widgets/base",
          "model_name": "LayoutModel",
          "model_module_version": "1.2.0",
          "state": {
            "_model_module": "@jupyter-widgets/base",
            "_model_module_version": "1.2.0",
            "_model_name": "LayoutModel",
            "_view_count": null,
            "_view_module": "@jupyter-widgets/base",
            "_view_module_version": "1.2.0",
            "_view_name": "LayoutView",
            "align_content": null,
            "align_items": null,
            "align_self": null,
            "border": null,
            "bottom": null,
            "display": null,
            "flex": null,
            "flex_flow": null,
            "grid_area": null,
            "grid_auto_columns": null,
            "grid_auto_flow": null,
            "grid_auto_rows": null,
            "grid_column": null,
            "grid_gap": null,
            "grid_row": null,
            "grid_template_areas": null,
            "grid_template_columns": null,
            "grid_template_rows": null,
            "height": null,
            "justify_content": null,
            "justify_items": null,
            "left": null,
            "margin": null,
            "max_height": null,
            "max_width": null,
            "min_height": null,
            "min_width": null,
            "object_fit": null,
            "object_position": null,
            "order": null,
            "overflow": null,
            "overflow_x": null,
            "overflow_y": null,
            "padding": null,
            "right": null,
            "top": null,
            "visibility": null,
            "width": null
          }
        },
        "86bdee31ba03486f83fda765feee979a": {
          "model_module": "@jupyter-widgets/controls",
          "model_name": "ProgressStyleModel",
          "model_module_version": "1.5.0",
          "state": {
            "_model_module": "@jupyter-widgets/controls",
            "_model_module_version": "1.5.0",
            "_model_name": "ProgressStyleModel",
            "_view_count": null,
            "_view_module": "@jupyter-widgets/base",
            "_view_module_version": "1.2.0",
            "_view_name": "StyleView",
            "bar_color": null,
            "description_width": ""
          }
        },
        "75d1a83ae5b84edd95a68d5ae8947f9c": {
          "model_module": "@jupyter-widgets/base",
          "model_name": "LayoutModel",
          "model_module_version": "1.2.0",
          "state": {
            "_model_module": "@jupyter-widgets/base",
            "_model_module_version": "1.2.0",
            "_model_name": "LayoutModel",
            "_view_count": null,
            "_view_module": "@jupyter-widgets/base",
            "_view_module_version": "1.2.0",
            "_view_name": "LayoutView",
            "align_content": null,
            "align_items": null,
            "align_self": null,
            "border": null,
            "bottom": null,
            "display": null,
            "flex": null,
            "flex_flow": null,
            "grid_area": null,
            "grid_auto_columns": null,
            "grid_auto_flow": null,
            "grid_auto_rows": null,
            "grid_column": null,
            "grid_gap": null,
            "grid_row": null,
            "grid_template_areas": null,
            "grid_template_columns": null,
            "grid_template_rows": null,
            "height": null,
            "justify_content": null,
            "justify_items": null,
            "left": null,
            "margin": null,
            "max_height": null,
            "max_width": null,
            "min_height": null,
            "min_width": null,
            "object_fit": null,
            "object_position": null,
            "order": null,
            "overflow": null,
            "overflow_x": null,
            "overflow_y": null,
            "padding": null,
            "right": null,
            "top": null,
            "visibility": null,
            "width": null
          }
        },
        "a0c331167c3942bcb6dbc016ef611f44": {
          "model_module": "@jupyter-widgets/controls",
          "model_name": "DescriptionStyleModel",
          "model_module_version": "1.5.0",
          "state": {
            "_model_module": "@jupyter-widgets/controls",
            "_model_module_version": "1.5.0",
            "_model_name": "DescriptionStyleModel",
            "_view_count": null,
            "_view_module": "@jupyter-widgets/base",
            "_view_module_version": "1.2.0",
            "_view_name": "StyleView",
            "description_width": ""
          }
        },
        "6a7ebc18200b4d8bb3710fcab760bf92": {
          "model_module": "@jupyter-widgets/controls",
          "model_name": "HBoxModel",
          "model_module_version": "1.5.0",
          "state": {
            "_dom_classes": [],
            "_model_module": "@jupyter-widgets/controls",
            "_model_module_version": "1.5.0",
            "_model_name": "HBoxModel",
            "_view_count": null,
            "_view_module": "@jupyter-widgets/controls",
            "_view_module_version": "1.5.0",
            "_view_name": "HBoxView",
            "box_style": "",
            "children": [
              "IPY_MODEL_eadbff6f09ec4cb6a9ec2ed3f78e1ba6",
              "IPY_MODEL_2994a1926e87475899244b0e97e1eebb",
              "IPY_MODEL_070021493f6848b1ae9251ed8859e93e"
            ],
            "layout": "IPY_MODEL_12cbebe203ca4d339de3b14071199efa"
          }
        },
        "eadbff6f09ec4cb6a9ec2ed3f78e1ba6": {
          "model_module": "@jupyter-widgets/controls",
          "model_name": "HTMLModel",
          "model_module_version": "1.5.0",
          "state": {
            "_dom_classes": [],
            "_model_module": "@jupyter-widgets/controls",
            "_model_module_version": "1.5.0",
            "_model_name": "HTMLModel",
            "_view_count": null,
            "_view_module": "@jupyter-widgets/controls",
            "_view_module_version": "1.5.0",
            "_view_name": "HTMLView",
            "description": "",
            "description_tooltip": null,
            "layout": "IPY_MODEL_1b081ee6631e43a79a096afec3cc6279",
            "placeholder": "​",
            "style": "IPY_MODEL_2d9403d255b44f958b6ad8c42b2526c2",
            "value": "model.safetensors: 100%"
          }
        },
        "2994a1926e87475899244b0e97e1eebb": {
          "model_module": "@jupyter-widgets/controls",
          "model_name": "FloatProgressModel",
          "model_module_version": "1.5.0",
          "state": {
            "_dom_classes": [],
            "_model_module": "@jupyter-widgets/controls",
            "_model_module_version": "1.5.0",
            "_model_name": "FloatProgressModel",
            "_view_count": null,
            "_view_module": "@jupyter-widgets/controls",
            "_view_module_version": "1.5.0",
            "_view_name": "ProgressView",
            "bar_style": "success",
            "description": "",
            "description_tooltip": null,
            "layout": "IPY_MODEL_d20a2525e7f24eafb181c0b80f177dba",
            "max": 440449768,
            "min": 0,
            "orientation": "horizontal",
            "style": "IPY_MODEL_61ad75d2d0e44ecab2f4ab7688028ffb",
            "value": 440449768
          }
        },
        "070021493f6848b1ae9251ed8859e93e": {
          "model_module": "@jupyter-widgets/controls",
          "model_name": "HTMLModel",
          "model_module_version": "1.5.0",
          "state": {
            "_dom_classes": [],
            "_model_module": "@jupyter-widgets/controls",
            "_model_module_version": "1.5.0",
            "_model_name": "HTMLModel",
            "_view_count": null,
            "_view_module": "@jupyter-widgets/controls",
            "_view_module_version": "1.5.0",
            "_view_name": "HTMLView",
            "description": "",
            "description_tooltip": null,
            "layout": "IPY_MODEL_965c730cbb5a474eaac7429327be8c4a",
            "placeholder": "​",
            "style": "IPY_MODEL_c1d46cdcc2664cc387ddb23edbe3bd50",
            "value": " 440M/440M [00:05&lt;00:00, 82.2MB/s]"
          }
        },
        "12cbebe203ca4d339de3b14071199efa": {
          "model_module": "@jupyter-widgets/base",
          "model_name": "LayoutModel",
          "model_module_version": "1.2.0",
          "state": {
            "_model_module": "@jupyter-widgets/base",
            "_model_module_version": "1.2.0",
            "_model_name": "LayoutModel",
            "_view_count": null,
            "_view_module": "@jupyter-widgets/base",
            "_view_module_version": "1.2.0",
            "_view_name": "LayoutView",
            "align_content": null,
            "align_items": null,
            "align_self": null,
            "border": null,
            "bottom": null,
            "display": null,
            "flex": null,
            "flex_flow": null,
            "grid_area": null,
            "grid_auto_columns": null,
            "grid_auto_flow": null,
            "grid_auto_rows": null,
            "grid_column": null,
            "grid_gap": null,
            "grid_row": null,
            "grid_template_areas": null,
            "grid_template_columns": null,
            "grid_template_rows": null,
            "height": null,
            "justify_content": null,
            "justify_items": null,
            "left": null,
            "margin": null,
            "max_height": null,
            "max_width": null,
            "min_height": null,
            "min_width": null,
            "object_fit": null,
            "object_position": null,
            "order": null,
            "overflow": null,
            "overflow_x": null,
            "overflow_y": null,
            "padding": null,
            "right": null,
            "top": null,
            "visibility": null,
            "width": null
          }
        },
        "1b081ee6631e43a79a096afec3cc6279": {
          "model_module": "@jupyter-widgets/base",
          "model_name": "LayoutModel",
          "model_module_version": "1.2.0",
          "state": {
            "_model_module": "@jupyter-widgets/base",
            "_model_module_version": "1.2.0",
            "_model_name": "LayoutModel",
            "_view_count": null,
            "_view_module": "@jupyter-widgets/base",
            "_view_module_version": "1.2.0",
            "_view_name": "LayoutView",
            "align_content": null,
            "align_items": null,
            "align_self": null,
            "border": null,
            "bottom": null,
            "display": null,
            "flex": null,
            "flex_flow": null,
            "grid_area": null,
            "grid_auto_columns": null,
            "grid_auto_flow": null,
            "grid_auto_rows": null,
            "grid_column": null,
            "grid_gap": null,
            "grid_row": null,
            "grid_template_areas": null,
            "grid_template_columns": null,
            "grid_template_rows": null,
            "height": null,
            "justify_content": null,
            "justify_items": null,
            "left": null,
            "margin": null,
            "max_height": null,
            "max_width": null,
            "min_height": null,
            "min_width": null,
            "object_fit": null,
            "object_position": null,
            "order": null,
            "overflow": null,
            "overflow_x": null,
            "overflow_y": null,
            "padding": null,
            "right": null,
            "top": null,
            "visibility": null,
            "width": null
          }
        },
        "2d9403d255b44f958b6ad8c42b2526c2": {
          "model_module": "@jupyter-widgets/controls",
          "model_name": "DescriptionStyleModel",
          "model_module_version": "1.5.0",
          "state": {
            "_model_module": "@jupyter-widgets/controls",
            "_model_module_version": "1.5.0",
            "_model_name": "DescriptionStyleModel",
            "_view_count": null,
            "_view_module": "@jupyter-widgets/base",
            "_view_module_version": "1.2.0",
            "_view_name": "StyleView",
            "description_width": ""
          }
        },
        "d20a2525e7f24eafb181c0b80f177dba": {
          "model_module": "@jupyter-widgets/base",
          "model_name": "LayoutModel",
          "model_module_version": "1.2.0",
          "state": {
            "_model_module": "@jupyter-widgets/base",
            "_model_module_version": "1.2.0",
            "_model_name": "LayoutModel",
            "_view_count": null,
            "_view_module": "@jupyter-widgets/base",
            "_view_module_version": "1.2.0",
            "_view_name": "LayoutView",
            "align_content": null,
            "align_items": null,
            "align_self": null,
            "border": null,
            "bottom": null,
            "display": null,
            "flex": null,
            "flex_flow": null,
            "grid_area": null,
            "grid_auto_columns": null,
            "grid_auto_flow": null,
            "grid_auto_rows": null,
            "grid_column": null,
            "grid_gap": null,
            "grid_row": null,
            "grid_template_areas": null,
            "grid_template_columns": null,
            "grid_template_rows": null,
            "height": null,
            "justify_content": null,
            "justify_items": null,
            "left": null,
            "margin": null,
            "max_height": null,
            "max_width": null,
            "min_height": null,
            "min_width": null,
            "object_fit": null,
            "object_position": null,
            "order": null,
            "overflow": null,
            "overflow_x": null,
            "overflow_y": null,
            "padding": null,
            "right": null,
            "top": null,
            "visibility": null,
            "width": null
          }
        },
        "61ad75d2d0e44ecab2f4ab7688028ffb": {
          "model_module": "@jupyter-widgets/controls",
          "model_name": "ProgressStyleModel",
          "model_module_version": "1.5.0",
          "state": {
            "_model_module": "@jupyter-widgets/controls",
            "_model_module_version": "1.5.0",
            "_model_name": "ProgressStyleModel",
            "_view_count": null,
            "_view_module": "@jupyter-widgets/base",
            "_view_module_version": "1.2.0",
            "_view_name": "StyleView",
            "bar_color": null,
            "description_width": ""
          }
        },
        "965c730cbb5a474eaac7429327be8c4a": {
          "model_module": "@jupyter-widgets/base",
          "model_name": "LayoutModel",
          "model_module_version": "1.2.0",
          "state": {
            "_model_module": "@jupyter-widgets/base",
            "_model_module_version": "1.2.0",
            "_model_name": "LayoutModel",
            "_view_count": null,
            "_view_module": "@jupyter-widgets/base",
            "_view_module_version": "1.2.0",
            "_view_name": "LayoutView",
            "align_content": null,
            "align_items": null,
            "align_self": null,
            "border": null,
            "bottom": null,
            "display": null,
            "flex": null,
            "flex_flow": null,
            "grid_area": null,
            "grid_auto_columns": null,
            "grid_auto_flow": null,
            "grid_auto_rows": null,
            "grid_column": null,
            "grid_gap": null,
            "grid_row": null,
            "grid_template_areas": null,
            "grid_template_columns": null,
            "grid_template_rows": null,
            "height": null,
            "justify_content": null,
            "justify_items": null,
            "left": null,
            "margin": null,
            "max_height": null,
            "max_width": null,
            "min_height": null,
            "min_width": null,
            "object_fit": null,
            "object_position": null,
            "order": null,
            "overflow": null,
            "overflow_x": null,
            "overflow_y": null,
            "padding": null,
            "right": null,
            "top": null,
            "visibility": null,
            "width": null
          }
        },
        "c1d46cdcc2664cc387ddb23edbe3bd50": {
          "model_module": "@jupyter-widgets/controls",
          "model_name": "DescriptionStyleModel",
          "model_module_version": "1.5.0",
          "state": {
            "_model_module": "@jupyter-widgets/controls",
            "_model_module_version": "1.5.0",
            "_model_name": "DescriptionStyleModel",
            "_view_count": null,
            "_view_module": "@jupyter-widgets/base",
            "_view_module_version": "1.2.0",
            "_view_name": "StyleView",
            "description_width": ""
          }
        }
      }
    }
  },
  "nbformat": 4,
  "nbformat_minor": 0
}